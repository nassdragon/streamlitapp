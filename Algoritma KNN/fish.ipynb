{
 "cells": [
  {
   "cell_type": "markdown",
   "metadata": {},
   "source": [
    "### Read Dataset\n"
   ]
  },
  {
   "cell_type": "code",
   "execution_count": 4,
   "metadata": {},
   "outputs": [],
   "source": [
    "import pandas as  pd #library untuk manipulasi data"
   ]
  },
  {
   "cell_type": "code",
   "execution_count": 5,
   "metadata": {},
   "outputs": [
    {
     "data": {
      "text/html": [
       "<div>\n",
       "<style scoped>\n",
       "    .dataframe tbody tr th:only-of-type {\n",
       "        vertical-align: middle;\n",
       "    }\n",
       "\n",
       "    .dataframe tbody tr th {\n",
       "        vertical-align: top;\n",
       "    }\n",
       "\n",
       "    .dataframe thead th {\n",
       "        text-align: right;\n",
       "    }\n",
       "</style>\n",
       "<table border=\"1\" class=\"dataframe\">\n",
       "  <thead>\n",
       "    <tr style=\"text-align: right;\">\n",
       "      <th></th>\n",
       "      <th>species</th>\n",
       "      <th>length</th>\n",
       "      <th>weight</th>\n",
       "      <th>w_l_ratio</th>\n",
       "    </tr>\n",
       "  </thead>\n",
       "  <tbody>\n",
       "    <tr>\n",
       "      <th>0</th>\n",
       "      <td>Anabas testudineus</td>\n",
       "      <td>10.66</td>\n",
       "      <td>3.45</td>\n",
       "      <td>0.32</td>\n",
       "    </tr>\n",
       "    <tr>\n",
       "      <th>1</th>\n",
       "      <td>Anabas testudineus</td>\n",
       "      <td>6.91</td>\n",
       "      <td>3.27</td>\n",
       "      <td>0.47</td>\n",
       "    </tr>\n",
       "    <tr>\n",
       "      <th>2</th>\n",
       "      <td>Anabas testudineus</td>\n",
       "      <td>8.38</td>\n",
       "      <td>3.46</td>\n",
       "      <td>0.41</td>\n",
       "    </tr>\n",
       "    <tr>\n",
       "      <th>3</th>\n",
       "      <td>Anabas testudineus</td>\n",
       "      <td>7.57</td>\n",
       "      <td>3.36</td>\n",
       "      <td>0.44</td>\n",
       "    </tr>\n",
       "    <tr>\n",
       "      <th>4</th>\n",
       "      <td>Anabas testudineus</td>\n",
       "      <td>10.83</td>\n",
       "      <td>3.38</td>\n",
       "      <td>0.31</td>\n",
       "    </tr>\n",
       "    <tr>\n",
       "      <th>...</th>\n",
       "      <td>...</td>\n",
       "      <td>...</td>\n",
       "      <td>...</td>\n",
       "      <td>...</td>\n",
       "    </tr>\n",
       "    <tr>\n",
       "      <th>4075</th>\n",
       "      <td>Sillaginopsis panijus</td>\n",
       "      <td>30.56</td>\n",
       "      <td>6.12</td>\n",
       "      <td>0.20</td>\n",
       "    </tr>\n",
       "    <tr>\n",
       "      <th>4076</th>\n",
       "      <td>Sillaginopsis panijus</td>\n",
       "      <td>29.66</td>\n",
       "      <td>6.11</td>\n",
       "      <td>0.21</td>\n",
       "    </tr>\n",
       "    <tr>\n",
       "      <th>4077</th>\n",
       "      <td>Sillaginopsis panijus</td>\n",
       "      <td>32.81</td>\n",
       "      <td>6.25</td>\n",
       "      <td>0.19</td>\n",
       "    </tr>\n",
       "    <tr>\n",
       "      <th>4078</th>\n",
       "      <td>Sillaginopsis panijus</td>\n",
       "      <td>29.78</td>\n",
       "      <td>6.11</td>\n",
       "      <td>0.21</td>\n",
       "    </tr>\n",
       "    <tr>\n",
       "      <th>4079</th>\n",
       "      <td>Sillaginopsis panijus</td>\n",
       "      <td>31.62</td>\n",
       "      <td>6.14</td>\n",
       "      <td>0.19</td>\n",
       "    </tr>\n",
       "  </tbody>\n",
       "</table>\n",
       "<p>4080 rows × 4 columns</p>\n",
       "</div>"
      ],
      "text/plain": [
       "                    species  length  weight  w_l_ratio\n",
       "0        Anabas testudineus   10.66    3.45       0.32\n",
       "1        Anabas testudineus    6.91    3.27       0.47\n",
       "2        Anabas testudineus    8.38    3.46       0.41\n",
       "3        Anabas testudineus    7.57    3.36       0.44\n",
       "4        Anabas testudineus   10.83    3.38       0.31\n",
       "...                     ...     ...     ...        ...\n",
       "4075  Sillaginopsis panijus   30.56    6.12       0.20\n",
       "4076  Sillaginopsis panijus   29.66    6.11       0.21\n",
       "4077  Sillaginopsis panijus   32.81    6.25       0.19\n",
       "4078  Sillaginopsis panijus   29.78    6.11       0.21\n",
       "4079  Sillaginopsis panijus   31.62    6.14       0.19\n",
       "\n",
       "[4080 rows x 4 columns]"
      ]
     },
     "execution_count": 5,
     "metadata": {},
     "output_type": "execute_result"
    }
   ],
   "source": [
    "df_fish = pd.read_csv('fish_data.csv') #membaca dataset fish_data.csv\n",
    "df_fish #menampilkan dataset"
   ]
  },
  {
   "cell_type": "code",
   "execution_count": 6,
   "metadata": {},
   "outputs": [
    {
     "name": "stdout",
     "output_type": "stream",
     "text": [
      "<class 'pandas.core.frame.DataFrame'>\n",
      "RangeIndex: 4080 entries, 0 to 4079\n",
      "Data columns (total 4 columns):\n",
      " #   Column     Non-Null Count  Dtype  \n",
      "---  ------     --------------  -----  \n",
      " 0   species    4080 non-null   object \n",
      " 1   length     4080 non-null   float64\n",
      " 2   weight     4080 non-null   float64\n",
      " 3   w_l_ratio  4080 non-null   float64\n",
      "dtypes: float64(3), object(1)\n",
      "memory usage: 127.6+ KB\n"
     ]
    }
   ],
   "source": [
    "df_fish.info() #menampilkan informasi dataset"
   ]
  },
  {
   "cell_type": "code",
   "execution_count": 7,
   "metadata": {},
   "outputs": [
    {
     "data": {
      "text/html": [
       "<div>\n",
       "<style scoped>\n",
       "    .dataframe tbody tr th:only-of-type {\n",
       "        vertical-align: middle;\n",
       "    }\n",
       "\n",
       "    .dataframe tbody tr th {\n",
       "        vertical-align: top;\n",
       "    }\n",
       "\n",
       "    .dataframe thead th {\n",
       "        text-align: right;\n",
       "    }\n",
       "</style>\n",
       "<table border=\"1\" class=\"dataframe\">\n",
       "  <thead>\n",
       "    <tr style=\"text-align: right;\">\n",
       "      <th></th>\n",
       "      <th>length</th>\n",
       "      <th>weight</th>\n",
       "      <th>w_l_ratio</th>\n",
       "    </tr>\n",
       "  </thead>\n",
       "  <tbody>\n",
       "    <tr>\n",
       "      <th>count</th>\n",
       "      <td>4080.000000</td>\n",
       "      <td>4080.000000</td>\n",
       "      <td>4080.000000</td>\n",
       "    </tr>\n",
       "    <tr>\n",
       "      <th>mean</th>\n",
       "      <td>17.353544</td>\n",
       "      <td>3.739875</td>\n",
       "      <td>0.252782</td>\n",
       "    </tr>\n",
       "    <tr>\n",
       "      <th>std</th>\n",
       "      <td>7.114684</td>\n",
       "      <td>1.040365</td>\n",
       "      <td>0.123046</td>\n",
       "    </tr>\n",
       "    <tr>\n",
       "      <th>min</th>\n",
       "      <td>6.360000</td>\n",
       "      <td>2.050000</td>\n",
       "      <td>0.080000</td>\n",
       "    </tr>\n",
       "    <tr>\n",
       "      <th>25%</th>\n",
       "      <td>11.327500</td>\n",
       "      <td>3.070000</td>\n",
       "      <td>0.170000</td>\n",
       "    </tr>\n",
       "    <tr>\n",
       "      <th>50%</th>\n",
       "      <td>17.350000</td>\n",
       "      <td>3.310000</td>\n",
       "      <td>0.190000</td>\n",
       "    </tr>\n",
       "    <tr>\n",
       "      <th>75%</th>\n",
       "      <td>22.585000</td>\n",
       "      <td>4.100000</td>\n",
       "      <td>0.340000</td>\n",
       "    </tr>\n",
       "    <tr>\n",
       "      <th>max</th>\n",
       "      <td>33.860000</td>\n",
       "      <td>6.290000</td>\n",
       "      <td>0.640000</td>\n",
       "    </tr>\n",
       "  </tbody>\n",
       "</table>\n",
       "</div>"
      ],
      "text/plain": [
       "            length       weight    w_l_ratio\n",
       "count  4080.000000  4080.000000  4080.000000\n",
       "mean     17.353544     3.739875     0.252782\n",
       "std       7.114684     1.040365     0.123046\n",
       "min       6.360000     2.050000     0.080000\n",
       "25%      11.327500     3.070000     0.170000\n",
       "50%      17.350000     3.310000     0.190000\n",
       "75%      22.585000     4.100000     0.340000\n",
       "max      33.860000     6.290000     0.640000"
      ]
     },
     "execution_count": 7,
     "metadata": {},
     "output_type": "execute_result"
    }
   ],
   "source": [
    "df_fish.describe() #menampilkan deskripsi dataset"
   ]
  },
  {
   "cell_type": "code",
   "execution_count": 8,
   "metadata": {},
   "outputs": [
    {
     "data": {
      "text/plain": [
       "array(['Anabas testudineus', 'Coilia dussumieri',\n",
       "       'Otolithoides biauritus', 'Otolithoides pama', 'Pethia conchonius',\n",
       "       'Polynemus paradiseus', 'Puntius lateristriga', 'Setipinna taty',\n",
       "       'Sillaginopsis panijus'], dtype=object)"
      ]
     },
     "execution_count": 8,
     "metadata": {},
     "output_type": "execute_result"
    }
   ],
   "source": [
    "pd.unique(df_fish['species']) #menampilkan nilai unik pada kolom species\n"
   ]
  },
  {
   "cell_type": "code",
   "execution_count": 9,
   "metadata": {},
   "outputs": [
    {
     "data": {
      "text/plain": [
       "species\n",
       "Setipinna taty            480\n",
       "Anabas testudineus        476\n",
       "Pethia conchonius         475\n",
       "Otolithoides biauritus    468\n",
       "Polynemus paradiseus      458\n",
       "Sillaginopsis panijus     455\n",
       "Otolithoides pama         435\n",
       "Puntius lateristriga      418\n",
       "Coilia dussumieri         415\n",
       "Name: count, dtype: int64"
      ]
     },
     "execution_count": 9,
     "metadata": {},
     "output_type": "execute_result"
    }
   ],
   "source": [
    "df_fish['species'].value_counts() #menampilkan frekuensi pada kolom species"
   ]
  },
  {
   "cell_type": "code",
   "execution_count": 10,
   "metadata": {},
   "outputs": [
    {
     "data": {
      "text/plain": [
       "species\n",
       "7    480\n",
       "0    476\n",
       "4    475\n",
       "2    468\n",
       "5    458\n",
       "8    455\n",
       "3    435\n",
       "6    418\n",
       "1    415\n",
       "Name: count, dtype: int64"
      ]
     },
     "execution_count": 10,
     "metadata": {},
     "output_type": "execute_result"
    }
   ],
   "source": [
    "from sklearn.preprocessing import LabelEncoder as label_encoder\n",
    "en = label_encoder() #membuat objek label_encoder\n",
    "df_fish['species'] = en.fit_transform(df_fish['species']) #mengubah species menjadi angka\n",
    "df_fish['species'].value_counts()"
   ]
  },
  {
   "cell_type": "markdown",
   "metadata": {},
   "source": [
    "### Split Dependent (Target / Label) Independent (Atribut) Variabel"
   ]
  },
  {
   "cell_type": "code",
   "execution_count": 11,
   "metadata": {},
   "outputs": [],
   "source": [
    "x = df_fish.drop('species', axis=1) #menghilangkan kolom species,selainnya akan dimasukkan ke dalam variabel x\n",
    "y = df_fish['species'] #memasukkan kolom species ke dalam variabel y"
   ]
  },
  {
   "cell_type": "markdown",
   "metadata": {},
   "source": [
    "### Fitur Scaling"
   ]
  },
  {
   "cell_type": "code",
   "execution_count": 14,
   "metadata": {},
   "outputs": [],
   "source": [
    "from sklearn.preprocessing import MinMaxScaler #library untuk membuat data numerik berada di rentang nilai yang sama atau berdekatan\n",
    "scaler = MinMaxScaler()\n",
    "scaler.fit(x) \n",
    "x = scaler.transform(x) \n"
   ]
  },
  {
   "cell_type": "markdown",
   "metadata": {},
   "source": [
    "### Split Train Test"
   ]
  },
  {
   "cell_type": "code",
   "execution_count": 14,
   "metadata": {},
   "outputs": [],
   "source": [
    "from sklearn.model_selection import train_test_split #library untuk membagi dataset menjadi data training dan data testing\n",
    "x_train, x_test, y_train, y_test = train_test_split(x, y, test_size=0.3, random_state=0)"
   ]
  },
  {
   "cell_type": "markdown",
   "metadata": {},
   "source": [
    "### Klasifikasi KNN\n"
   ]
  },
  {
   "cell_type": "code",
   "execution_count": 15,
   "metadata": {},
   "outputs": [],
   "source": [
    "from sklearn.neighbors import KNeighborsClassifier #import library KNN"
   ]
  },
  {
   "cell_type": "markdown",
   "metadata": {},
   "source": [
    "### Training / Fit Model"
   ]
  },
  {
   "cell_type": "code",
   "execution_count": 28,
   "metadata": {},
   "outputs": [
    {
     "data": {
      "text/html": [
       "<style>#sk-container-id-3 {\n",
       "  /* Definition of color scheme common for light and dark mode */\n",
       "  --sklearn-color-text: black;\n",
       "  --sklearn-color-line: gray;\n",
       "  /* Definition of color scheme for unfitted estimators */\n",
       "  --sklearn-color-unfitted-level-0: #fff5e6;\n",
       "  --sklearn-color-unfitted-level-1: #f6e4d2;\n",
       "  --sklearn-color-unfitted-level-2: #ffe0b3;\n",
       "  --sklearn-color-unfitted-level-3: chocolate;\n",
       "  /* Definition of color scheme for fitted estimators */\n",
       "  --sklearn-color-fitted-level-0: #f0f8ff;\n",
       "  --sklearn-color-fitted-level-1: #d4ebff;\n",
       "  --sklearn-color-fitted-level-2: #b3dbfd;\n",
       "  --sklearn-color-fitted-level-3: cornflowerblue;\n",
       "\n",
       "  /* Specific color for light theme */\n",
       "  --sklearn-color-text-on-default-background: var(--sg-text-color, var(--theme-code-foreground, var(--jp-content-font-color1, black)));\n",
       "  --sklearn-color-background: var(--sg-background-color, var(--theme-background, var(--jp-layout-color0, white)));\n",
       "  --sklearn-color-border-box: var(--sg-text-color, var(--theme-code-foreground, var(--jp-content-font-color1, black)));\n",
       "  --sklearn-color-icon: #696969;\n",
       "\n",
       "  @media (prefers-color-scheme: dark) {\n",
       "    /* Redefinition of color scheme for dark theme */\n",
       "    --sklearn-color-text-on-default-background: var(--sg-text-color, var(--theme-code-foreground, var(--jp-content-font-color1, white)));\n",
       "    --sklearn-color-background: var(--sg-background-color, var(--theme-background, var(--jp-layout-color0, #111)));\n",
       "    --sklearn-color-border-box: var(--sg-text-color, var(--theme-code-foreground, var(--jp-content-font-color1, white)));\n",
       "    --sklearn-color-icon: #878787;\n",
       "  }\n",
       "}\n",
       "\n",
       "#sk-container-id-3 {\n",
       "  color: var(--sklearn-color-text);\n",
       "}\n",
       "\n",
       "#sk-container-id-3 pre {\n",
       "  padding: 0;\n",
       "}\n",
       "\n",
       "#sk-container-id-3 input.sk-hidden--visually {\n",
       "  border: 0;\n",
       "  clip: rect(1px 1px 1px 1px);\n",
       "  clip: rect(1px, 1px, 1px, 1px);\n",
       "  height: 1px;\n",
       "  margin: -1px;\n",
       "  overflow: hidden;\n",
       "  padding: 0;\n",
       "  position: absolute;\n",
       "  width: 1px;\n",
       "}\n",
       "\n",
       "#sk-container-id-3 div.sk-dashed-wrapped {\n",
       "  border: 1px dashed var(--sklearn-color-line);\n",
       "  margin: 0 0.4em 0.5em 0.4em;\n",
       "  box-sizing: border-box;\n",
       "  padding-bottom: 0.4em;\n",
       "  background-color: var(--sklearn-color-background);\n",
       "}\n",
       "\n",
       "#sk-container-id-3 div.sk-container {\n",
       "  /* jupyter's `normalize.less` sets `[hidden] { display: none; }`\n",
       "     but bootstrap.min.css set `[hidden] { display: none !important; }`\n",
       "     so we also need the `!important` here to be able to override the\n",
       "     default hidden behavior on the sphinx rendered scikit-learn.org.\n",
       "     See: https://github.com/scikit-learn/scikit-learn/issues/21755 */\n",
       "  display: inline-block !important;\n",
       "  position: relative;\n",
       "}\n",
       "\n",
       "#sk-container-id-3 div.sk-text-repr-fallback {\n",
       "  display: none;\n",
       "}\n",
       "\n",
       "div.sk-parallel-item,\n",
       "div.sk-serial,\n",
       "div.sk-item {\n",
       "  /* draw centered vertical line to link estimators */\n",
       "  background-image: linear-gradient(var(--sklearn-color-text-on-default-background), var(--sklearn-color-text-on-default-background));\n",
       "  background-size: 2px 100%;\n",
       "  background-repeat: no-repeat;\n",
       "  background-position: center center;\n",
       "}\n",
       "\n",
       "/* Parallel-specific style estimator block */\n",
       "\n",
       "#sk-container-id-3 div.sk-parallel-item::after {\n",
       "  content: \"\";\n",
       "  width: 100%;\n",
       "  border-bottom: 2px solid var(--sklearn-color-text-on-default-background);\n",
       "  flex-grow: 1;\n",
       "}\n",
       "\n",
       "#sk-container-id-3 div.sk-parallel {\n",
       "  display: flex;\n",
       "  align-items: stretch;\n",
       "  justify-content: center;\n",
       "  background-color: var(--sklearn-color-background);\n",
       "  position: relative;\n",
       "}\n",
       "\n",
       "#sk-container-id-3 div.sk-parallel-item {\n",
       "  display: flex;\n",
       "  flex-direction: column;\n",
       "}\n",
       "\n",
       "#sk-container-id-3 div.sk-parallel-item:first-child::after {\n",
       "  align-self: flex-end;\n",
       "  width: 50%;\n",
       "}\n",
       "\n",
       "#sk-container-id-3 div.sk-parallel-item:last-child::after {\n",
       "  align-self: flex-start;\n",
       "  width: 50%;\n",
       "}\n",
       "\n",
       "#sk-container-id-3 div.sk-parallel-item:only-child::after {\n",
       "  width: 0;\n",
       "}\n",
       "\n",
       "/* Serial-specific style estimator block */\n",
       "\n",
       "#sk-container-id-3 div.sk-serial {\n",
       "  display: flex;\n",
       "  flex-direction: column;\n",
       "  align-items: center;\n",
       "  background-color: var(--sklearn-color-background);\n",
       "  padding-right: 1em;\n",
       "  padding-left: 1em;\n",
       "}\n",
       "\n",
       "\n",
       "/* Toggleable style: style used for estimator/Pipeline/ColumnTransformer box that is\n",
       "clickable and can be expanded/collapsed.\n",
       "- Pipeline and ColumnTransformer use this feature and define the default style\n",
       "- Estimators will overwrite some part of the style using the `sk-estimator` class\n",
       "*/\n",
       "\n",
       "/* Pipeline and ColumnTransformer style (default) */\n",
       "\n",
       "#sk-container-id-3 div.sk-toggleable {\n",
       "  /* Default theme specific background. It is overwritten whether we have a\n",
       "  specific estimator or a Pipeline/ColumnTransformer */\n",
       "  background-color: var(--sklearn-color-background);\n",
       "}\n",
       "\n",
       "/* Toggleable label */\n",
       "#sk-container-id-3 label.sk-toggleable__label {\n",
       "  cursor: pointer;\n",
       "  display: block;\n",
       "  width: 100%;\n",
       "  margin-bottom: 0;\n",
       "  padding: 0.5em;\n",
       "  box-sizing: border-box;\n",
       "  text-align: center;\n",
       "}\n",
       "\n",
       "#sk-container-id-3 label.sk-toggleable__label-arrow:before {\n",
       "  /* Arrow on the left of the label */\n",
       "  content: \"▸\";\n",
       "  float: left;\n",
       "  margin-right: 0.25em;\n",
       "  color: var(--sklearn-color-icon);\n",
       "}\n",
       "\n",
       "#sk-container-id-3 label.sk-toggleable__label-arrow:hover:before {\n",
       "  color: var(--sklearn-color-text);\n",
       "}\n",
       "\n",
       "/* Toggleable content - dropdown */\n",
       "\n",
       "#sk-container-id-3 div.sk-toggleable__content {\n",
       "  max-height: 0;\n",
       "  max-width: 0;\n",
       "  overflow: hidden;\n",
       "  text-align: left;\n",
       "  /* unfitted */\n",
       "  background-color: var(--sklearn-color-unfitted-level-0);\n",
       "}\n",
       "\n",
       "#sk-container-id-3 div.sk-toggleable__content.fitted {\n",
       "  /* fitted */\n",
       "  background-color: var(--sklearn-color-fitted-level-0);\n",
       "}\n",
       "\n",
       "#sk-container-id-3 div.sk-toggleable__content pre {\n",
       "  margin: 0.2em;\n",
       "  border-radius: 0.25em;\n",
       "  color: var(--sklearn-color-text);\n",
       "  /* unfitted */\n",
       "  background-color: var(--sklearn-color-unfitted-level-0);\n",
       "}\n",
       "\n",
       "#sk-container-id-3 div.sk-toggleable__content.fitted pre {\n",
       "  /* unfitted */\n",
       "  background-color: var(--sklearn-color-fitted-level-0);\n",
       "}\n",
       "\n",
       "#sk-container-id-3 input.sk-toggleable__control:checked~div.sk-toggleable__content {\n",
       "  /* Expand drop-down */\n",
       "  max-height: 200px;\n",
       "  max-width: 100%;\n",
       "  overflow: auto;\n",
       "}\n",
       "\n",
       "#sk-container-id-3 input.sk-toggleable__control:checked~label.sk-toggleable__label-arrow:before {\n",
       "  content: \"▾\";\n",
       "}\n",
       "\n",
       "/* Pipeline/ColumnTransformer-specific style */\n",
       "\n",
       "#sk-container-id-3 div.sk-label input.sk-toggleable__control:checked~label.sk-toggleable__label {\n",
       "  color: var(--sklearn-color-text);\n",
       "  background-color: var(--sklearn-color-unfitted-level-2);\n",
       "}\n",
       "\n",
       "#sk-container-id-3 div.sk-label.fitted input.sk-toggleable__control:checked~label.sk-toggleable__label {\n",
       "  background-color: var(--sklearn-color-fitted-level-2);\n",
       "}\n",
       "\n",
       "/* Estimator-specific style */\n",
       "\n",
       "/* Colorize estimator box */\n",
       "#sk-container-id-3 div.sk-estimator input.sk-toggleable__control:checked~label.sk-toggleable__label {\n",
       "  /* unfitted */\n",
       "  background-color: var(--sklearn-color-unfitted-level-2);\n",
       "}\n",
       "\n",
       "#sk-container-id-3 div.sk-estimator.fitted input.sk-toggleable__control:checked~label.sk-toggleable__label {\n",
       "  /* fitted */\n",
       "  background-color: var(--sklearn-color-fitted-level-2);\n",
       "}\n",
       "\n",
       "#sk-container-id-3 div.sk-label label.sk-toggleable__label,\n",
       "#sk-container-id-3 div.sk-label label {\n",
       "  /* The background is the default theme color */\n",
       "  color: var(--sklearn-color-text-on-default-background);\n",
       "}\n",
       "\n",
       "/* On hover, darken the color of the background */\n",
       "#sk-container-id-3 div.sk-label:hover label.sk-toggleable__label {\n",
       "  color: var(--sklearn-color-text);\n",
       "  background-color: var(--sklearn-color-unfitted-level-2);\n",
       "}\n",
       "\n",
       "/* Label box, darken color on hover, fitted */\n",
       "#sk-container-id-3 div.sk-label.fitted:hover label.sk-toggleable__label.fitted {\n",
       "  color: var(--sklearn-color-text);\n",
       "  background-color: var(--sklearn-color-fitted-level-2);\n",
       "}\n",
       "\n",
       "/* Estimator label */\n",
       "\n",
       "#sk-container-id-3 div.sk-label label {\n",
       "  font-family: monospace;\n",
       "  font-weight: bold;\n",
       "  display: inline-block;\n",
       "  line-height: 1.2em;\n",
       "}\n",
       "\n",
       "#sk-container-id-3 div.sk-label-container {\n",
       "  text-align: center;\n",
       "}\n",
       "\n",
       "/* Estimator-specific */\n",
       "#sk-container-id-3 div.sk-estimator {\n",
       "  font-family: monospace;\n",
       "  border: 1px dotted var(--sklearn-color-border-box);\n",
       "  border-radius: 0.25em;\n",
       "  box-sizing: border-box;\n",
       "  margin-bottom: 0.5em;\n",
       "  /* unfitted */\n",
       "  background-color: var(--sklearn-color-unfitted-level-0);\n",
       "}\n",
       "\n",
       "#sk-container-id-3 div.sk-estimator.fitted {\n",
       "  /* fitted */\n",
       "  background-color: var(--sklearn-color-fitted-level-0);\n",
       "}\n",
       "\n",
       "/* on hover */\n",
       "#sk-container-id-3 div.sk-estimator:hover {\n",
       "  /* unfitted */\n",
       "  background-color: var(--sklearn-color-unfitted-level-2);\n",
       "}\n",
       "\n",
       "#sk-container-id-3 div.sk-estimator.fitted:hover {\n",
       "  /* fitted */\n",
       "  background-color: var(--sklearn-color-fitted-level-2);\n",
       "}\n",
       "\n",
       "/* Specification for estimator info (e.g. \"i\" and \"?\") */\n",
       "\n",
       "/* Common style for \"i\" and \"?\" */\n",
       "\n",
       ".sk-estimator-doc-link,\n",
       "a:link.sk-estimator-doc-link,\n",
       "a:visited.sk-estimator-doc-link {\n",
       "  float: right;\n",
       "  font-size: smaller;\n",
       "  line-height: 1em;\n",
       "  font-family: monospace;\n",
       "  background-color: var(--sklearn-color-background);\n",
       "  border-radius: 1em;\n",
       "  height: 1em;\n",
       "  width: 1em;\n",
       "  text-decoration: none !important;\n",
       "  margin-left: 1ex;\n",
       "  /* unfitted */\n",
       "  border: var(--sklearn-color-unfitted-level-1) 1pt solid;\n",
       "  color: var(--sklearn-color-unfitted-level-1);\n",
       "}\n",
       "\n",
       ".sk-estimator-doc-link.fitted,\n",
       "a:link.sk-estimator-doc-link.fitted,\n",
       "a:visited.sk-estimator-doc-link.fitted {\n",
       "  /* fitted */\n",
       "  border: var(--sklearn-color-fitted-level-1) 1pt solid;\n",
       "  color: var(--sklearn-color-fitted-level-1);\n",
       "}\n",
       "\n",
       "/* On hover */\n",
       "div.sk-estimator:hover .sk-estimator-doc-link:hover,\n",
       ".sk-estimator-doc-link:hover,\n",
       "div.sk-label-container:hover .sk-estimator-doc-link:hover,\n",
       ".sk-estimator-doc-link:hover {\n",
       "  /* unfitted */\n",
       "  background-color: var(--sklearn-color-unfitted-level-3);\n",
       "  color: var(--sklearn-color-background);\n",
       "  text-decoration: none;\n",
       "}\n",
       "\n",
       "div.sk-estimator.fitted:hover .sk-estimator-doc-link.fitted:hover,\n",
       ".sk-estimator-doc-link.fitted:hover,\n",
       "div.sk-label-container:hover .sk-estimator-doc-link.fitted:hover,\n",
       ".sk-estimator-doc-link.fitted:hover {\n",
       "  /* fitted */\n",
       "  background-color: var(--sklearn-color-fitted-level-3);\n",
       "  color: var(--sklearn-color-background);\n",
       "  text-decoration: none;\n",
       "}\n",
       "\n",
       "/* Span, style for the box shown on hovering the info icon */\n",
       ".sk-estimator-doc-link span {\n",
       "  display: none;\n",
       "  z-index: 9999;\n",
       "  position: relative;\n",
       "  font-weight: normal;\n",
       "  right: .2ex;\n",
       "  padding: .5ex;\n",
       "  margin: .5ex;\n",
       "  width: min-content;\n",
       "  min-width: 20ex;\n",
       "  max-width: 50ex;\n",
       "  color: var(--sklearn-color-text);\n",
       "  box-shadow: 2pt 2pt 4pt #999;\n",
       "  /* unfitted */\n",
       "  background: var(--sklearn-color-unfitted-level-0);\n",
       "  border: .5pt solid var(--sklearn-color-unfitted-level-3);\n",
       "}\n",
       "\n",
       ".sk-estimator-doc-link.fitted span {\n",
       "  /* fitted */\n",
       "  background: var(--sklearn-color-fitted-level-0);\n",
       "  border: var(--sklearn-color-fitted-level-3);\n",
       "}\n",
       "\n",
       ".sk-estimator-doc-link:hover span {\n",
       "  display: block;\n",
       "}\n",
       "\n",
       "/* \"?\"-specific style due to the `<a>` HTML tag */\n",
       "\n",
       "#sk-container-id-3 a.estimator_doc_link {\n",
       "  float: right;\n",
       "  font-size: 1rem;\n",
       "  line-height: 1em;\n",
       "  font-family: monospace;\n",
       "  background-color: var(--sklearn-color-background);\n",
       "  border-radius: 1rem;\n",
       "  height: 1rem;\n",
       "  width: 1rem;\n",
       "  text-decoration: none;\n",
       "  /* unfitted */\n",
       "  color: var(--sklearn-color-unfitted-level-1);\n",
       "  border: var(--sklearn-color-unfitted-level-1) 1pt solid;\n",
       "}\n",
       "\n",
       "#sk-container-id-3 a.estimator_doc_link.fitted {\n",
       "  /* fitted */\n",
       "  border: var(--sklearn-color-fitted-level-1) 1pt solid;\n",
       "  color: var(--sklearn-color-fitted-level-1);\n",
       "}\n",
       "\n",
       "/* On hover */\n",
       "#sk-container-id-3 a.estimator_doc_link:hover {\n",
       "  /* unfitted */\n",
       "  background-color: var(--sklearn-color-unfitted-level-3);\n",
       "  color: var(--sklearn-color-background);\n",
       "  text-decoration: none;\n",
       "}\n",
       "\n",
       "#sk-container-id-3 a.estimator_doc_link.fitted:hover {\n",
       "  /* fitted */\n",
       "  background-color: var(--sklearn-color-fitted-level-3);\n",
       "}\n",
       "</style><div id=\"sk-container-id-3\" class=\"sk-top-container\"><div class=\"sk-text-repr-fallback\"><pre>KNeighborsClassifier(metric=&#x27;euclidean&#x27;, n_neighbors=14)</pre><b>In a Jupyter environment, please rerun this cell to show the HTML representation or trust the notebook. <br />On GitHub, the HTML representation is unable to render, please try loading this page with nbviewer.org.</b></div><div class=\"sk-container\" hidden><div class=\"sk-item\"><div class=\"sk-estimator fitted sk-toggleable\"><input class=\"sk-toggleable__control sk-hidden--visually\" id=\"sk-estimator-id-3\" type=\"checkbox\" checked><label for=\"sk-estimator-id-3\" class=\"sk-toggleable__label fitted sk-toggleable__label-arrow fitted\">&nbsp;&nbsp;KNeighborsClassifier<a class=\"sk-estimator-doc-link fitted\" rel=\"noreferrer\" target=\"_blank\" href=\"https://scikit-learn.org/1.5/modules/generated/sklearn.neighbors.KNeighborsClassifier.html\">?<span>Documentation for KNeighborsClassifier</span></a><span class=\"sk-estimator-doc-link fitted\">i<span>Fitted</span></span></label><div class=\"sk-toggleable__content fitted\"><pre>KNeighborsClassifier(metric=&#x27;euclidean&#x27;, n_neighbors=14)</pre></div> </div></div></div></div>"
      ],
      "text/plain": [
       "KNeighborsClassifier(metric='euclidean', n_neighbors=14)"
      ]
     },
     "execution_count": 28,
     "metadata": {},
     "output_type": "execute_result"
    }
   ],
   "source": [
    "knn = KNeighborsClassifier(n_neighbors=14, metric='euclidean').fit(x_train, y_train)\n",
    "knn #menentukan nilai n_neighbors dan metric"
   ]
  },
  {
   "cell_type": "markdown",
   "metadata": {},
   "source": [
    "### Prediksi / Test\n"
   ]
  },
  {
   "cell_type": "code",
   "execution_count": 29,
   "metadata": {},
   "outputs": [
    {
     "data": {
      "text/plain": [
       "array([6, 4, 3, ..., 6, 6, 6])"
      ]
     },
     "execution_count": 29,
     "metadata": {},
     "output_type": "execute_result"
    }
   ],
   "source": [
    "y_pred = knn.predict(x_test) #melakukan prediksi\n",
    "y_pred #menampilkan hasil prediksi"
   ]
  },
  {
   "cell_type": "markdown",
   "metadata": {},
   "source": [
    "### Cek Akurasi dan Evaluasi"
   ]
  },
  {
   "cell_type": "code",
   "execution_count": 30,
   "metadata": {},
   "outputs": [],
   "source": [
    "from sklearn.metrics import accuracy_score #import library accuracy_score\n",
    "from sklearn.metrics import classification_report #import library classification_report\n",
    "from sklearn.metrics import confusion_matrix #import library confusion_matrix\n",
    "import seaborn as sb #import library seaborn"
   ]
  },
  {
   "cell_type": "code",
   "execution_count": 31,
   "metadata": {},
   "outputs": [
    {
     "name": "stdout",
     "output_type": "stream",
     "text": [
      "Nilai akurasi:  0.9444444444444444\n"
     ]
    }
   ],
   "source": [
    "print(\"Nilai akurasi: \",accuracy_score(y_test, y_pred)) #menampilkan akurasi\n"
   ]
  },
  {
   "cell_type": "code",
   "execution_count": 20,
   "metadata": {},
   "outputs": [
    {
     "name": "stdout",
     "output_type": "stream",
     "text": [
      "              precision    recall  f1-score   support\n",
      "\n",
      "           0       1.00      1.00      1.00       146\n",
      "           1       1.00      0.99      1.00       134\n",
      "           2       0.74      0.80      0.77       147\n",
      "           3       0.99      0.99      0.99       135\n",
      "           4       1.00      1.00      1.00       128\n",
      "           5       1.00      1.00      1.00       126\n",
      "           6       1.00      1.00      1.00       109\n",
      "           7       0.77      0.71      0.74       145\n",
      "           8       1.00      1.00      1.00       154\n",
      "\n",
      "    accuracy                           0.94      1224\n",
      "   macro avg       0.94      0.94      0.94      1224\n",
      "weighted avg       0.94      0.94      0.94      1224\n",
      "\n"
     ]
    },
    {
     "data": {
      "text/plain": [
       "<Axes: >"
      ]
     },
     "execution_count": 20,
     "metadata": {},
     "output_type": "execute_result"
    },
    {
     "data": {
      "image/png": "[encoded data removed]",
      "text/plain": [
       "<Figure size 640x480 with 2 Axes>"
      ]
     },
     "metadata": {},
     "output_type": "display_data"
    }
   ],
   "source": [
    "print(classification_report(y_test, y_pred)) #menampilkan report klasifikasi\n",
    "sb.heatmap(confusion_matrix(y_test, y_pred), annot=True) #menampilkan confusion matrix"
   ]
  },
  {
   "cell_type": "markdown",
   "metadata": {},
   "source": [
    "### Mencari nilai k yang terbaik"
   ]
  },
  {
   "cell_type": "code",
   "execution_count": 22,
   "metadata": {},
   "outputs": [
    {
     "name": "stdout",
     "output_type": "stream",
     "text": [
      "[0.9223856209150327, 0.9240196078431373, 0.9313725490196079, 0.9362745098039216, 0.9281045751633987, 0.9321895424836601, 0.9297385620915033, 0.9321895424836601, 0.9281045751633987, 0.9370915032679739, 0.9362745098039216, 0.9370915032679739, 0.9354575163398693, 0.9444444444444444, 0.9387254901960784, 0.9395424836601307, 0.9419934640522876, 0.940359477124183, 0.9419934640522876, 0.9411764705882353, 0.9362745098039216, 0.9411764705882353, 0.9387254901960784, 0.940359477124183, 0.9428104575163399, 0.940359477124183, 0.9419934640522876, 0.940359477124183, 0.9428104575163399, 0.9395424836601307, 0.9395424836601307, 0.9387254901960784, 0.940359477124183, 0.9387254901960784, 0.9387254901960784, 0.9370915032679739, 0.9395424836601307, 0.9362745098039216, 0.9370915032679739, 0.9370915032679739, 0.9362745098039216, 0.9379084967320261, 0.9338235294117647, 0.9354575163398693, 0.9338235294117647, 0.934640522875817, 0.9354575163398693, 0.9370915032679739, 0.9379084967320261, 0.9379084967320261, 0.9387254901960784, 0.9379084967320261, 0.9370915032679739, 0.9379084967320261, 0.9387254901960784, 0.9395424836601307, 0.9379084967320261, 0.9379084967320261, 0.9379084967320261, 0.940359477124183, 0.9379084967320261, 0.940359477124183, 0.9362745098039216, 0.9379084967320261, 0.9362745098039216, 0.9370915032679739, 0.9379084967320261, 0.9370915032679739, 0.9362745098039216, 0.934640522875817, 0.934640522875817, 0.9354575163398693, 0.9362745098039216, 0.9362745098039216, 0.9362745098039216, 0.9379084967320261, 0.9354575163398693, 0.9379084967320261, 0.9362745098039216, 0.9387254901960784, 0.9379084967320261, 0.940359477124183, 0.9362745098039216, 0.9354575163398693, 0.934640522875817, 0.9338235294117647, 0.9338235294117647, 0.9330065359477124, 0.9338235294117647, 0.9338235294117647, 0.9354575163398693, 0.9338235294117647, 0.934640522875817, 0.9338235294117647, 0.934640522875817, 0.9354575163398693, 0.9338235294117647, 0.9354575163398693, 0.9354575163398693, 0.9338235294117647, 0.934640522875817, 0.9338235294117647, 0.9338235294117647, 0.934640522875817, 0.9330065359477124, 0.9362745098039216, 0.9354575163398693, 0.934640522875817, 0.9330065359477124, 0.9338235294117647, 0.9305555555555556, 0.9321895424836601, 0.9330065359477124, 0.9338235294117647, 0.9305555555555556, 0.9330065359477124, 0.9321895424836601, 0.9338235294117647, 0.9281045751633987, 0.9305555555555556, 0.9297385620915033, 0.9305555555555556, 0.928921568627451, 0.9305555555555556, 0.9281045751633987, 0.9272875816993464, 0.9264705882352942, 0.9281045751633987, 0.9264705882352942, 0.9256535947712419, 0.9248366013071896, 0.9256535947712419, 0.9240196078431373, 0.9256535947712419, 0.9248366013071896, 0.9264705882352942, 0.9215686274509803, 0.923202614379085, 0.9215686274509803, 0.9248366013071896, 0.9256535947712419, 0.9264705882352942, 0.9248366013071896, 0.9256535947712419, 0.9240196078431373, 0.9256535947712419, 0.9248366013071896, 0.9256535947712419, 0.9248366013071896, 0.9256535947712419, 0.9264705882352942, 0.9256535947712419, 0.9256535947712419, 0.9256535947712419, 0.9256535947712419, 0.9248366013071896, 0.9215686274509803, 0.9223856209150327, 0.9199346405228758, 0.9215686274509803, 0.920751633986928, 0.9215686274509803, 0.9199346405228758, 0.920751633986928, 0.9199346405228758, 0.920751633986928, 0.9199346405228758, 0.9199346405228758, 0.9199346405228758, 0.9199346405228758, 0.9199346405228758, 0.9183006535947712, 0.9191176470588235, 0.9183006535947712, 0.9191176470588235, 0.9191176470588235, 0.920751633986928, 0.920751633986928, 0.920751633986928, 0.9199346405228758, 0.9199346405228758, 0.9199346405228758, 0.9191176470588235, 0.9191176470588235, 0.9191176470588235, 0.9183006535947712, 0.9199346405228758, 0.9191176470588235, 0.9199346405228758, 0.9183006535947712, 0.9191176470588235, 0.9191176470588235, 0.9183006535947712, 0.9174836601307189, 0.9183006535947712, 0.9174836601307189, 0.9199346405228758, 0.9191176470588235, 0.9199346405228758, 0.9183006535947712, 0.9199346405228758, 0.9191176470588235, 0.9199346405228758, 0.9199346405228758, 0.9191176470588235, 0.9191176470588235, 0.9191176470588235, 0.9183006535947712, 0.9183006535947712, 0.920751633986928, 0.9183006535947712, 0.9174836601307189, 0.9174836601307189, 0.9183006535947712, 0.9191176470588235, 0.9191176470588235, 0.9199346405228758, 0.9191176470588235, 0.9183006535947712, 0.9191176470588235, 0.9150326797385621, 0.9166666666666666, 0.9158496732026143, 0.9166666666666666, 0.9158496732026143, 0.9150326797385621, 0.9158496732026143, 0.9174836601307189, 0.9166666666666666, 0.9166666666666666, 0.9166666666666666, 0.9166666666666666, 0.9174836601307189, 0.9174836601307189, 0.9166666666666666, 0.9174836601307189, 0.9166666666666666, 0.9183006535947712, 0.9158496732026143, 0.9166666666666666, 0.9158496732026143, 0.9166666666666666, 0.9158496732026143, 0.9166666666666666, 0.9158496732026143, 0.9158496732026143, 0.9158496732026143, 0.9158496732026143, 0.9166666666666666, 0.9166666666666666, 0.9158496732026143, 0.9174836601307189, 0.9158496732026143, 0.9158496732026143, 0.9158496732026143, 0.9166666666666666, 0.9166666666666666, 0.9166666666666666, 0.9158496732026143, 0.9158496732026143, 0.9142156862745098, 0.9142156862745098, 0.9109477124183006, 0.9125816993464052, 0.9109477124183006, 0.9109477124183006, 0.9093137254901961, 0.9101307189542484, 0.9093137254901961, 0.9076797385620915, 0.9084967320261438, 0.9101307189542484, 0.9101307189542484, 0.9101307189542484, 0.9109477124183006, 0.9109477124183006, 0.9084967320261438, 0.9101307189542484, 0.9068627450980392, 0.9093137254901961, 0.9060457516339869, 0.9068627450980392, 0.9052287581699346, 0.9060457516339869, 0.9035947712418301, 0.9044117647058824, 0.9027777777777778, 0.9052287581699346, 0.9035947712418301, 0.9035947712418301, 0.9035947712418301, 0.9035947712418301, 0.9035947712418301, 0.9044117647058824, 0.9027777777777778, 0.9035947712418301, 0.9027777777777778, 0.9044117647058824, 0.9035947712418301, 0.9052287581699346, 0.9035947712418301, 0.9044117647058824, 0.9027777777777778, 0.9035947712418301, 0.9027777777777778, 0.9019607843137255, 0.9027777777777778, 0.9044117647058824, 0.9019607843137255, 0.9027777777777778, 0.9035947712418301, 0.9044117647058824, 0.9027777777777778, 0.9044117647058824, 0.9035947712418301, 0.9027777777777778, 0.9019607843137255, 0.9035947712418301, 0.9027777777777778, 0.9027777777777778, 0.9027777777777778, 0.9044117647058824, 0.9027777777777778, 0.9019607843137255, 0.9027777777777778, 0.9011437908496732, 0.9003267973856209, 0.9011437908496732, 0.9011437908496732, 0.9003267973856209, 0.9003267973856209, 0.9011437908496732, 0.8995098039215687, 0.9011437908496732, 0.9011437908496732, 0.9003267973856209, 0.9003267973856209, 0.9003267973856209, 0.9003267973856209, 0.8986928104575164, 0.8986928104575164, 0.8986928104575164, 0.8986928104575164, 0.8978758169934641, 0.8986928104575164, 0.8978758169934641, 0.8978758169934641, 0.8978758169934641, 0.8962418300653595, 0.8962418300653595, 0.8962418300653595, 0.8970588235294118, 0.8978758169934641, 0.8962418300653595, 0.8970588235294118, 0.8970588235294118, 0.8978758169934641, 0.8954248366013072, 0.8970588235294118, 0.8946078431372549, 0.8954248366013072, 0.8946078431372549, 0.8970588235294118, 0.8954248366013072, 0.8970588235294118, 0.8954248366013072, 0.8937908496732027, 0.8937908496732027, 0.8929738562091504, 0.8937908496732027, 0.8954248366013072, 0.8954248366013072, 0.8954248366013072, 0.8946078431372549, 0.8962418300653595, 0.8962418300653595, 0.8962418300653595, 0.8962418300653595, 0.8954248366013072, 0.8970588235294118, 0.8962418300653595, 0.8962418300653595, 0.8962418300653595, 0.8970588235294118, 0.8962418300653595, 0.8970588235294118, 0.8962418300653595, 0.8954248366013072, 0.8946078431372549, 0.8962418300653595, 0.8946078431372549, 0.8962418300653595, 0.8954248366013072, 0.8970588235294118, 0.8946078431372549, 0.8937908496732027, 0.8929738562091504, 0.8954248366013072, 0.8937908496732027, 0.8946078431372549, 0.8946078431372549, 0.8962418300653595, 0.8970588235294118, 0.8970588235294118, 0.8970588235294118, 0.8962418300653595, 0.8954248366013072, 0.8954248366013072, 0.8954248366013072, 0.8946078431372549, 0.8954248366013072, 0.8954248366013072, 0.8954248366013072, 0.8962418300653595, 0.8978758169934641, 0.8970588235294118, 0.8962418300653595, 0.8978758169934641, 0.8954248366013072, 0.8978758169934641, 0.8962418300653595, 0.8937908496732027, 0.8937908496732027, 0.8929738562091504, 0.8937908496732027, 0.8937908496732027, 0.8946078431372549, 0.8913398692810458, 0.8937908496732027, 0.8921568627450981, 0.8937908496732027, 0.8937908496732027, 0.8929738562091504, 0.8946078431372549, 0.8937908496732027, 0.8937908496732027, 0.8937908496732027, 0.8962418300653595, 0.8946078431372549, 0.8954248366013072, 0.8946078431372549, 0.8962418300653595, 0.8946078431372549, 0.8954248366013072, 0.8954248366013072, 0.8954248366013072, 0.8946078431372549, 0.8946078431372549, 0.8962418300653595, 0.8962418300653595, 0.8954248366013072, 0.8962418300653595, 0.8962418300653595, 0.8954248366013072, 0.8946078431372549, 0.8954248366013072, 0.8954248366013072, 0.8954248366013072, 0.8946078431372549, 0.8946078431372549, 0.8946078431372549, 0.8937908496732027, 0.8946078431372549, 0.8937908496732027, 0.8954248366013072, 0.8946078431372549, 0.8946078431372549, 0.8954248366013072, 0.8921568627450981, 0.8929738562091504, 0.8905228758169934, 0.8913398692810458, 0.8905228758169934, 0.8905228758169934, 0.8897058823529411, 0.8897058823529411, 0.8888888888888888, 0.8888888888888888, 0.8880718954248366, 0.8880718954248366, 0.8872549019607843, 0.8880718954248366, 0.8880718954248366, 0.8888888888888888, 0.8880718954248366, 0.8897058823529411, 0.8880718954248366, 0.8905228758169934, 0.8905228758169934, 0.8897058823529411, 0.8897058823529411, 0.8897058823529411, 0.8888888888888888, 0.8888888888888888, 0.8888888888888888, 0.8897058823529411, 0.8880718954248366, 0.8888888888888888, 0.8880718954248366]\n",
      "Nilai akurasi tertinggi berada pada nilai K:  14\n",
      "Nilai akurasi tertinggi:  0.9444444444444444\n"
     ]
    }
   ],
   "source": [
    "n_akurasi = []\n",
    "for k in range(1, 500):\n",
    "    knn = KNeighborsClassifier(n_neighbors=k, metric='euclidean').fit(x_train, y_train)\n",
    "    y_pred = knn.predict(x_test)\n",
    "    n_akurasi.append(accuracy_score(y_test, y_pred))\n",
    "    \n",
    "print(n_akurasi)\n",
    "print(\"Nilai akurasi tertinggi berada pada nilai K: \",n_akurasi.index(max(n_akurasi))+1)\n",
    "print(\"Nilai akurasi tertinggi: \",max(n_akurasi))"
   ]
  },
  {
   "cell_type": "code",
   "execution_count": 23,
   "metadata": {},
   "outputs": [
    {
     "data": {
      "image/png": "[encoded data removed]",
      "text/plain": [
       "<Figure size 2000x1000 with 1 Axes>"
      ]
     },
     "metadata": {},
     "output_type": "display_data"
    }
   ],
   "source": [
    "import matplotlib.pyplot as plt\n",
    "plt.figure(figsize=(20, 10))\n",
    "plt.plot(range(1, 500), n_akurasi)\n",
    "plt.title('Nilai Akurasi terhadap Nilai K')\n",
    "plt.xlabel('Nilai K')\n",
    "plt.ylabel('Nilai Akurasi')\n",
    "plt.show()"
   ]
  },
  {
   "cell_type": "markdown",
   "metadata": {},
   "source": [
    "### Klasifikasi Data Baru"
   ]
  },
  {
   "cell_type": "code",
   "execution_count": 27,
   "metadata": {},
   "outputs": [
    {
     "name": "stdout",
     "output_type": "stream",
     "text": [
      "[8]\n"
     ]
    }
   ],
   "source": [
    "new_fish = [[7.0, 4.05, 0.19]] #memasukkan data baru\n",
    "knn.predict(new_fish)\n",
    "print(knn.predict(new_fish))\n"
   ]
  },
  {
   "cell_type": "markdown",
   "metadata": {},
   "source": [
    "### Model"
   ]
  },
  {
   "cell_type": "code",
   "execution_count": 33,
   "metadata": {},
   "outputs": [],
   "source": [
    "import pickle #library untuk menyimpan model\n",
    "pickle.dump(knn, open('fish.pkl', 'wb'))"
   ]
  }
 ],
 "metadata": {
  "kernelspec": {
   "display_name": "Python",
   "language": "python",
   "name": "python3"
  },
  "language_info": {
   "codemirror_mode": {
    "name": "ipython",
    "version": 3
   },
   "file_extension": ".py",
   "mimetype": "text/x-python",
   "name": "python",
   "nbconvert_exporter": "python",
   "pygments_lexer": "ipython3",
   "version": "3.10.15"
  }
 },
 "nbformat": 4,
 "nbformat_minor": 2
}
