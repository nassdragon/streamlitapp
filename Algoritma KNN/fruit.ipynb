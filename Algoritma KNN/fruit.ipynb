{
 "cells": [
  {
   "cell_type": "markdown",
   "metadata": {},
   "source": [
    "### Read Dataset"
   ]
  },
  {
   "cell_type": "code",
   "execution_count": 1,
   "metadata": {},
   "outputs": [],
   "source": [
    "import pandas as pd #library untuk manipulasi data"
   ]
  },
  {
   "cell_type": "code",
   "execution_count": 5,
   "metadata": {},
   "outputs": [
    {
     "data": {
      "text/html": [
       "<div>\n",
       "<style scoped>\n",
       "    .dataframe tbody tr th:only-of-type {\n",
       "        vertical-align: middle;\n",
       "    }\n",
       "\n",
       "    .dataframe tbody tr th {\n",
       "        vertical-align: top;\n",
       "    }\n",
       "\n",
       "    .dataframe thead th {\n",
       "        text-align: right;\n",
       "    }\n",
       "</style>\n",
       "<table border=\"1\" class=\"dataframe\">\n",
       "  <thead>\n",
       "    <tr style=\"text-align: right;\">\n",
       "      <th></th>\n",
       "      <th>diameter</th>\n",
       "      <th>weight</th>\n",
       "      <th>red</th>\n",
       "      <th>green</th>\n",
       "      <th>blue</th>\n",
       "      <th>name</th>\n",
       "    </tr>\n",
       "  </thead>\n",
       "  <tbody>\n",
       "    <tr>\n",
       "      <th>0</th>\n",
       "      <td>2.96</td>\n",
       "      <td>86.76</td>\n",
       "      <td>172</td>\n",
       "      <td>85</td>\n",
       "      <td>2</td>\n",
       "      <td>orange</td>\n",
       "    </tr>\n",
       "    <tr>\n",
       "      <th>1</th>\n",
       "      <td>3.91</td>\n",
       "      <td>88.05</td>\n",
       "      <td>166</td>\n",
       "      <td>78</td>\n",
       "      <td>3</td>\n",
       "      <td>orange</td>\n",
       "    </tr>\n",
       "    <tr>\n",
       "      <th>2</th>\n",
       "      <td>4.42</td>\n",
       "      <td>95.17</td>\n",
       "      <td>156</td>\n",
       "      <td>81</td>\n",
       "      <td>2</td>\n",
       "      <td>orange</td>\n",
       "    </tr>\n",
       "    <tr>\n",
       "      <th>3</th>\n",
       "      <td>4.47</td>\n",
       "      <td>95.60</td>\n",
       "      <td>163</td>\n",
       "      <td>81</td>\n",
       "      <td>4</td>\n",
       "      <td>orange</td>\n",
       "    </tr>\n",
       "    <tr>\n",
       "      <th>4</th>\n",
       "      <td>4.48</td>\n",
       "      <td>95.76</td>\n",
       "      <td>161</td>\n",
       "      <td>72</td>\n",
       "      <td>9</td>\n",
       "      <td>orange</td>\n",
       "    </tr>\n",
       "    <tr>\n",
       "      <th>...</th>\n",
       "      <td>...</td>\n",
       "      <td>...</td>\n",
       "      <td>...</td>\n",
       "      <td>...</td>\n",
       "      <td>...</td>\n",
       "      <td>...</td>\n",
       "    </tr>\n",
       "    <tr>\n",
       "      <th>9995</th>\n",
       "      <td>15.35</td>\n",
       "      <td>253.89</td>\n",
       "      <td>149</td>\n",
       "      <td>77</td>\n",
       "      <td>20</td>\n",
       "      <td>grapefruit</td>\n",
       "    </tr>\n",
       "    <tr>\n",
       "      <th>9996</th>\n",
       "      <td>15.41</td>\n",
       "      <td>254.67</td>\n",
       "      <td>148</td>\n",
       "      <td>68</td>\n",
       "      <td>7</td>\n",
       "      <td>grapefruit</td>\n",
       "    </tr>\n",
       "    <tr>\n",
       "      <th>9997</th>\n",
       "      <td>15.59</td>\n",
       "      <td>256.50</td>\n",
       "      <td>168</td>\n",
       "      <td>82</td>\n",
       "      <td>20</td>\n",
       "      <td>grapefruit</td>\n",
       "    </tr>\n",
       "    <tr>\n",
       "      <th>9998</th>\n",
       "      <td>15.92</td>\n",
       "      <td>260.14</td>\n",
       "      <td>142</td>\n",
       "      <td>72</td>\n",
       "      <td>11</td>\n",
       "      <td>grapefruit</td>\n",
       "    </tr>\n",
       "    <tr>\n",
       "      <th>9999</th>\n",
       "      <td>16.45</td>\n",
       "      <td>261.51</td>\n",
       "      <td>152</td>\n",
       "      <td>74</td>\n",
       "      <td>2</td>\n",
       "      <td>grapefruit</td>\n",
       "    </tr>\n",
       "  </tbody>\n",
       "</table>\n",
       "<p>10000 rows × 6 columns</p>\n",
       "</div>"
      ],
      "text/plain": [
       "      diameter  weight  red  green  blue        name\n",
       "0         2.96   86.76  172     85     2      orange\n",
       "1         3.91   88.05  166     78     3      orange\n",
       "2         4.42   95.17  156     81     2      orange\n",
       "3         4.47   95.60  163     81     4      orange\n",
       "4         4.48   95.76  161     72     9      orange\n",
       "...        ...     ...  ...    ...   ...         ...\n",
       "9995     15.35  253.89  149     77    20  grapefruit\n",
       "9996     15.41  254.67  148     68     7  grapefruit\n",
       "9997     15.59  256.50  168     82    20  grapefruit\n",
       "9998     15.92  260.14  142     72    11  grapefruit\n",
       "9999     16.45  261.51  152     74     2  grapefruit\n",
       "\n",
       "[10000 rows x 6 columns]"
      ]
     },
     "execution_count": 5,
     "metadata": {},
     "output_type": "execute_result"
    }
   ],
   "source": [
    "df_fruit = pd.read_excel('fruit.xlsx') #membaca dataset fruit.xlsx\n",
    "df_fruit #menampilkan dataset"
   ]
  },
  {
   "cell_type": "code",
   "execution_count": 6,
   "metadata": {},
   "outputs": [
    {
     "name": "stdout",
     "output_type": "stream",
     "text": [
      "<class 'pandas.core.frame.DataFrame'>\n",
      "RangeIndex: 10000 entries, 0 to 9999\n",
      "Data columns (total 6 columns):\n",
      " #   Column    Non-Null Count  Dtype  \n",
      "---  ------    --------------  -----  \n",
      " 0   diameter  10000 non-null  float64\n",
      " 1   weight    10000 non-null  float64\n",
      " 2   red       10000 non-null  int64  \n",
      " 3   green     10000 non-null  int64  \n",
      " 4   blue      10000 non-null  int64  \n",
      " 5   name      10000 non-null  object \n",
      "dtypes: float64(2), int64(3), object(1)\n",
      "memory usage: 468.9+ KB\n"
     ]
    }
   ],
   "source": [
    "df_fruit.info() #menampilkan informasi dataset"
   ]
  },
  {
   "cell_type": "code",
   "execution_count": 7,
   "metadata": {},
   "outputs": [
    {
     "data": {
      "text/html": [
       "<div>\n",
       "<style scoped>\n",
       "    .dataframe tbody tr th:only-of-type {\n",
       "        vertical-align: middle;\n",
       "    }\n",
       "\n",
       "    .dataframe tbody tr th {\n",
       "        vertical-align: top;\n",
       "    }\n",
       "\n",
       "    .dataframe thead th {\n",
       "        text-align: right;\n",
       "    }\n",
       "</style>\n",
       "<table border=\"1\" class=\"dataframe\">\n",
       "  <thead>\n",
       "    <tr style=\"text-align: right;\">\n",
       "      <th></th>\n",
       "      <th>diameter</th>\n",
       "      <th>weight</th>\n",
       "      <th>red</th>\n",
       "      <th>green</th>\n",
       "      <th>blue</th>\n",
       "    </tr>\n",
       "  </thead>\n",
       "  <tbody>\n",
       "    <tr>\n",
       "      <th>count</th>\n",
       "      <td>10000.000000</td>\n",
       "      <td>10000.000000</td>\n",
       "      <td>10000.000000</td>\n",
       "      <td>10000.000000</td>\n",
       "      <td>10000.000000</td>\n",
       "    </tr>\n",
       "    <tr>\n",
       "      <th>mean</th>\n",
       "      <td>9.975685</td>\n",
       "      <td>175.050792</td>\n",
       "      <td>153.847800</td>\n",
       "      <td>76.010600</td>\n",
       "      <td>11.363200</td>\n",
       "    </tr>\n",
       "    <tr>\n",
       "      <th>std</th>\n",
       "      <td>1.947844</td>\n",
       "      <td>29.212119</td>\n",
       "      <td>10.432954</td>\n",
       "      <td>11.708433</td>\n",
       "      <td>9.061275</td>\n",
       "    </tr>\n",
       "    <tr>\n",
       "      <th>min</th>\n",
       "      <td>2.960000</td>\n",
       "      <td>86.760000</td>\n",
       "      <td>115.000000</td>\n",
       "      <td>31.000000</td>\n",
       "      <td>2.000000</td>\n",
       "    </tr>\n",
       "    <tr>\n",
       "      <th>25%</th>\n",
       "      <td>8.460000</td>\n",
       "      <td>152.220000</td>\n",
       "      <td>147.000000</td>\n",
       "      <td>68.000000</td>\n",
       "      <td>2.000000</td>\n",
       "    </tr>\n",
       "    <tr>\n",
       "      <th>50%</th>\n",
       "      <td>9.980000</td>\n",
       "      <td>174.985000</td>\n",
       "      <td>154.000000</td>\n",
       "      <td>76.000000</td>\n",
       "      <td>10.000000</td>\n",
       "    </tr>\n",
       "    <tr>\n",
       "      <th>75%</th>\n",
       "      <td>11.480000</td>\n",
       "      <td>197.722500</td>\n",
       "      <td>161.000000</td>\n",
       "      <td>84.000000</td>\n",
       "      <td>17.000000</td>\n",
       "    </tr>\n",
       "    <tr>\n",
       "      <th>max</th>\n",
       "      <td>16.450000</td>\n",
       "      <td>261.510000</td>\n",
       "      <td>192.000000</td>\n",
       "      <td>116.000000</td>\n",
       "      <td>56.000000</td>\n",
       "    </tr>\n",
       "  </tbody>\n",
       "</table>\n",
       "</div>"
      ],
      "text/plain": [
       "           diameter        weight           red         green          blue\n",
       "count  10000.000000  10000.000000  10000.000000  10000.000000  10000.000000\n",
       "mean       9.975685    175.050792    153.847800     76.010600     11.363200\n",
       "std        1.947844     29.212119     10.432954     11.708433      9.061275\n",
       "min        2.960000     86.760000    115.000000     31.000000      2.000000\n",
       "25%        8.460000    152.220000    147.000000     68.000000      2.000000\n",
       "50%        9.980000    174.985000    154.000000     76.000000     10.000000\n",
       "75%       11.480000    197.722500    161.000000     84.000000     17.000000\n",
       "max       16.450000    261.510000    192.000000    116.000000     56.000000"
      ]
     },
     "execution_count": 7,
     "metadata": {},
     "output_type": "execute_result"
    }
   ],
   "source": [
    "df_fruit.describe() #menampilkan deskripsi dataset"
   ]
  },
  {
   "cell_type": "code",
   "execution_count": 8,
   "metadata": {},
   "outputs": [
    {
     "data": {
      "text/plain": [
       "array(['orange', 'grapefruit'], dtype=object)"
      ]
     },
     "execution_count": 8,
     "metadata": {},
     "output_type": "execute_result"
    }
   ],
   "source": [
    "pd.unique(df_fruit['name']) #menampilkan nilai unik pada kolom name"
   ]
  },
  {
   "cell_type": "code",
   "execution_count": 9,
   "metadata": {},
   "outputs": [
    {
     "data": {
      "text/plain": [
       "name\n",
       "orange        5000\n",
       "grapefruit    5000\n",
       "Name: count, dtype: int64"
      ]
     },
     "execution_count": 9,
     "metadata": {},
     "output_type": "execute_result"
    }
   ],
   "source": [
    "df_fruit['name'].value_counts() #menampilkan frekuensi pada kolom name"
   ]
  },
  {
   "cell_type": "code",
   "execution_count": 10,
   "metadata": {},
   "outputs": [
    {
     "data": {
      "text/plain": [
       "name\n",
       "1    5000\n",
       "0    5000\n",
       "Name: count, dtype: int64"
      ]
     },
     "execution_count": 10,
     "metadata": {},
     "output_type": "execute_result"
    }
   ],
   "source": [
    "from sklearn.preprocessing import LabelEncoder\n",
    "en = LabelEncoder() #membuat objek label_encoder\n",
    "df_fruit['name'] = en.fit_transform(df_fruit['name']) #mengubah nilai unik menjadi angka\n",
    "df_fruit['name'].value_counts()"
   ]
  },
  {
   "cell_type": "markdown",
   "metadata": {},
   "source": [
    "### Split Dependent (Target / Label) Independent (Atribut) Variabel"
   ]
  },
  {
   "cell_type": "code",
   "execution_count": 34,
   "metadata": {},
   "outputs": [],
   "source": [
    "x = df_fruit.drop('name', axis=1) #menghapus kolom name,selain name akan dimasukkan ke variabel x\n",
    "y = df_fruit['name'] #mengambil kolom name untuk variabel y\n"
   ]
  },
  {
   "cell_type": "markdown",
   "metadata": {},
   "source": [
    "### Fitur Scaling\n"
   ]
  },
  {
   "cell_type": "code",
   "execution_count": 16,
   "metadata": {},
   "outputs": [],
   "source": [
    "from sklearn.preprocessing import MinMaxScaler #library untuk membuat data numerik berada di rentang nilai yang sama atau berdekatan\n",
    "scaler = MinMaxScaler()\n",
    "scaler.fit(x)\n",
    "x = scaler.transform(x)"
   ]
  },
  {
   "cell_type": "markdown",
   "metadata": {},
   "source": [
    "### Split Train Test\n"
   ]
  },
  {
   "cell_type": "code",
   "execution_count": 17,
   "metadata": {},
   "outputs": [],
   "source": [
    "from sklearn.model_selection import train_test_split #library untuk membagi dataset menjadi data training dan data testing\n",
    "x_train, x_test, y_train, y_test = train_test_split(x, y, test_size=0.3, random_state=0)"
   ]
  },
  {
   "cell_type": "markdown",
   "metadata": {},
   "source": [
    "### Klasifikasi KNN\n"
   ]
  },
  {
   "cell_type": "code",
   "execution_count": 18,
   "metadata": {},
   "outputs": [],
   "source": [
    "from sklearn.neighbors import KNeighborsClassifier"
   ]
  },
  {
   "cell_type": "markdown",
   "metadata": {},
   "source": [
    "### Training / Fit Model\n"
   ]
  },
  {
   "cell_type": "code",
   "execution_count": 25,
   "metadata": {},
   "outputs": [
    {
     "data": {
      "text/html": [
       "<style>#sk-container-id-2 {\n",
       "  /* Definition of color scheme common for light and dark mode */\n",
       "  --sklearn-color-text: black;\n",
       "  --sklearn-color-line: gray;\n",
       "  /* Definition of color scheme for unfitted estimators */\n",
       "  --sklearn-color-unfitted-level-0: #fff5e6;\n",
       "  --sklearn-color-unfitted-level-1: #f6e4d2;\n",
       "  --sklearn-color-unfitted-level-2: #ffe0b3;\n",
       "  --sklearn-color-unfitted-level-3: chocolate;\n",
       "  /* Definition of color scheme for fitted estimators */\n",
       "  --sklearn-color-fitted-level-0: #f0f8ff;\n",
       "  --sklearn-color-fitted-level-1: #d4ebff;\n",
       "  --sklearn-color-fitted-level-2: #b3dbfd;\n",
       "  --sklearn-color-fitted-level-3: cornflowerblue;\n",
       "\n",
       "  /* Specific color for light theme */\n",
       "  --sklearn-color-text-on-default-background: var(--sg-text-color, var(--theme-code-foreground, var(--jp-content-font-color1, black)));\n",
       "  --sklearn-color-background: var(--sg-background-color, var(--theme-background, var(--jp-layout-color0, white)));\n",
       "  --sklearn-color-border-box: var(--sg-text-color, var(--theme-code-foreground, var(--jp-content-font-color1, black)));\n",
       "  --sklearn-color-icon: #696969;\n",
       "\n",
       "  @media (prefers-color-scheme: dark) {\n",
       "    /* Redefinition of color scheme for dark theme */\n",
       "    --sklearn-color-text-on-default-background: var(--sg-text-color, var(--theme-code-foreground, var(--jp-content-font-color1, white)));\n",
       "    --sklearn-color-background: var(--sg-background-color, var(--theme-background, var(--jp-layout-color0, #111)));\n",
       "    --sklearn-color-border-box: var(--sg-text-color, var(--theme-code-foreground, var(--jp-content-font-color1, white)));\n",
       "    --sklearn-color-icon: #878787;\n",
       "  }\n",
       "}\n",
       "\n",
       "#sk-container-id-2 {\n",
       "  color: var(--sklearn-color-text);\n",
       "}\n",
       "\n",
       "#sk-container-id-2 pre {\n",
       "  padding: 0;\n",
       "}\n",
       "\n",
       "#sk-container-id-2 input.sk-hidden--visually {\n",
       "  border: 0;\n",
       "  clip: rect(1px 1px 1px 1px);\n",
       "  clip: rect(1px, 1px, 1px, 1px);\n",
       "  height: 1px;\n",
       "  margin: -1px;\n",
       "  overflow: hidden;\n",
       "  padding: 0;\n",
       "  position: absolute;\n",
       "  width: 1px;\n",
       "}\n",
       "\n",
       "#sk-container-id-2 div.sk-dashed-wrapped {\n",
       "  border: 1px dashed var(--sklearn-color-line);\n",
       "  margin: 0 0.4em 0.5em 0.4em;\n",
       "  box-sizing: border-box;\n",
       "  padding-bottom: 0.4em;\n",
       "  background-color: var(--sklearn-color-background);\n",
       "}\n",
       "\n",
       "#sk-container-id-2 div.sk-container {\n",
       "  /* jupyter's `normalize.less` sets `[hidden] { display: none; }`\n",
       "     but bootstrap.min.css set `[hidden] { display: none !important; }`\n",
       "     so we also need the `!important` here to be able to override the\n",
       "     default hidden behavior on the sphinx rendered scikit-learn.org.\n",
       "     See: https://github.com/scikit-learn/scikit-learn/issues/21755 */\n",
       "  display: inline-block !important;\n",
       "  position: relative;\n",
       "}\n",
       "\n",
       "#sk-container-id-2 div.sk-text-repr-fallback {\n",
       "  display: none;\n",
       "}\n",
       "\n",
       "div.sk-parallel-item,\n",
       "div.sk-serial,\n",
       "div.sk-item {\n",
       "  /* draw centered vertical line to link estimators */\n",
       "  background-image: linear-gradient(var(--sklearn-color-text-on-default-background), var(--sklearn-color-text-on-default-background));\n",
       "  background-size: 2px 100%;\n",
       "  background-repeat: no-repeat;\n",
       "  background-position: center center;\n",
       "}\n",
       "\n",
       "/* Parallel-specific style estimator block */\n",
       "\n",
       "#sk-container-id-2 div.sk-parallel-item::after {\n",
       "  content: \"\";\n",
       "  width: 100%;\n",
       "  border-bottom: 2px solid var(--sklearn-color-text-on-default-background);\n",
       "  flex-grow: 1;\n",
       "}\n",
       "\n",
       "#sk-container-id-2 div.sk-parallel {\n",
       "  display: flex;\n",
       "  align-items: stretch;\n",
       "  justify-content: center;\n",
       "  background-color: var(--sklearn-color-background);\n",
       "  position: relative;\n",
       "}\n",
       "\n",
       "#sk-container-id-2 div.sk-parallel-item {\n",
       "  display: flex;\n",
       "  flex-direction: column;\n",
       "}\n",
       "\n",
       "#sk-container-id-2 div.sk-parallel-item:first-child::after {\n",
       "  align-self: flex-end;\n",
       "  width: 50%;\n",
       "}\n",
       "\n",
       "#sk-container-id-2 div.sk-parallel-item:last-child::after {\n",
       "  align-self: flex-start;\n",
       "  width: 50%;\n",
       "}\n",
       "\n",
       "#sk-container-id-2 div.sk-parallel-item:only-child::after {\n",
       "  width: 0;\n",
       "}\n",
       "\n",
       "/* Serial-specific style estimator block */\n",
       "\n",
       "#sk-container-id-2 div.sk-serial {\n",
       "  display: flex;\n",
       "  flex-direction: column;\n",
       "  align-items: center;\n",
       "  background-color: var(--sklearn-color-background);\n",
       "  padding-right: 1em;\n",
       "  padding-left: 1em;\n",
       "}\n",
       "\n",
       "\n",
       "/* Toggleable style: style used for estimator/Pipeline/ColumnTransformer box that is\n",
       "clickable and can be expanded/collapsed.\n",
       "- Pipeline and ColumnTransformer use this feature and define the default style\n",
       "- Estimators will overwrite some part of the style using the `sk-estimator` class\n",
       "*/\n",
       "\n",
       "/* Pipeline and ColumnTransformer style (default) */\n",
       "\n",
       "#sk-container-id-2 div.sk-toggleable {\n",
       "  /* Default theme specific background. It is overwritten whether we have a\n",
       "  specific estimator or a Pipeline/ColumnTransformer */\n",
       "  background-color: var(--sklearn-color-background);\n",
       "}\n",
       "\n",
       "/* Toggleable label */\n",
       "#sk-container-id-2 label.sk-toggleable__label {\n",
       "  cursor: pointer;\n",
       "  display: block;\n",
       "  width: 100%;\n",
       "  margin-bottom: 0;\n",
       "  padding: 0.5em;\n",
       "  box-sizing: border-box;\n",
       "  text-align: center;\n",
       "}\n",
       "\n",
       "#sk-container-id-2 label.sk-toggleable__label-arrow:before {\n",
       "  /* Arrow on the left of the label */\n",
       "  content: \"▸\";\n",
       "  float: left;\n",
       "  margin-right: 0.25em;\n",
       "  color: var(--sklearn-color-icon);\n",
       "}\n",
       "\n",
       "#sk-container-id-2 label.sk-toggleable__label-arrow:hover:before {\n",
       "  color: var(--sklearn-color-text);\n",
       "}\n",
       "\n",
       "/* Toggleable content - dropdown */\n",
       "\n",
       "#sk-container-id-2 div.sk-toggleable__content {\n",
       "  max-height: 0;\n",
       "  max-width: 0;\n",
       "  overflow: hidden;\n",
       "  text-align: left;\n",
       "  /* unfitted */\n",
       "  background-color: var(--sklearn-color-unfitted-level-0);\n",
       "}\n",
       "\n",
       "#sk-container-id-2 div.sk-toggleable__content.fitted {\n",
       "  /* fitted */\n",
       "  background-color: var(--sklearn-color-fitted-level-0);\n",
       "}\n",
       "\n",
       "#sk-container-id-2 div.sk-toggleable__content pre {\n",
       "  margin: 0.2em;\n",
       "  border-radius: 0.25em;\n",
       "  color: var(--sklearn-color-text);\n",
       "  /* unfitted */\n",
       "  background-color: var(--sklearn-color-unfitted-level-0);\n",
       "}\n",
       "\n",
       "#sk-container-id-2 div.sk-toggleable__content.fitted pre {\n",
       "  /* unfitted */\n",
       "  background-color: var(--sklearn-color-fitted-level-0);\n",
       "}\n",
       "\n",
       "#sk-container-id-2 input.sk-toggleable__control:checked~div.sk-toggleable__content {\n",
       "  /* Expand drop-down */\n",
       "  max-height: 200px;\n",
       "  max-width: 100%;\n",
       "  overflow: auto;\n",
       "}\n",
       "\n",
       "#sk-container-id-2 input.sk-toggleable__control:checked~label.sk-toggleable__label-arrow:before {\n",
       "  content: \"▾\";\n",
       "}\n",
       "\n",
       "/* Pipeline/ColumnTransformer-specific style */\n",
       "\n",
       "#sk-container-id-2 div.sk-label input.sk-toggleable__control:checked~label.sk-toggleable__label {\n",
       "  color: var(--sklearn-color-text);\n",
       "  background-color: var(--sklearn-color-unfitted-level-2);\n",
       "}\n",
       "\n",
       "#sk-container-id-2 div.sk-label.fitted input.sk-toggleable__control:checked~label.sk-toggleable__label {\n",
       "  background-color: var(--sklearn-color-fitted-level-2);\n",
       "}\n",
       "\n",
       "/* Estimator-specific style */\n",
       "\n",
       "/* Colorize estimator box */\n",
       "#sk-container-id-2 div.sk-estimator input.sk-toggleable__control:checked~label.sk-toggleable__label {\n",
       "  /* unfitted */\n",
       "  background-color: var(--sklearn-color-unfitted-level-2);\n",
       "}\n",
       "\n",
       "#sk-container-id-2 div.sk-estimator.fitted input.sk-toggleable__control:checked~label.sk-toggleable__label {\n",
       "  /* fitted */\n",
       "  background-color: var(--sklearn-color-fitted-level-2);\n",
       "}\n",
       "\n",
       "#sk-container-id-2 div.sk-label label.sk-toggleable__label,\n",
       "#sk-container-id-2 div.sk-label label {\n",
       "  /* The background is the default theme color */\n",
       "  color: var(--sklearn-color-text-on-default-background);\n",
       "}\n",
       "\n",
       "/* On hover, darken the color of the background */\n",
       "#sk-container-id-2 div.sk-label:hover label.sk-toggleable__label {\n",
       "  color: var(--sklearn-color-text);\n",
       "  background-color: var(--sklearn-color-unfitted-level-2);\n",
       "}\n",
       "\n",
       "/* Label box, darken color on hover, fitted */\n",
       "#sk-container-id-2 div.sk-label.fitted:hover label.sk-toggleable__label.fitted {\n",
       "  color: var(--sklearn-color-text);\n",
       "  background-color: var(--sklearn-color-fitted-level-2);\n",
       "}\n",
       "\n",
       "/* Estimator label */\n",
       "\n",
       "#sk-container-id-2 div.sk-label label {\n",
       "  font-family: monospace;\n",
       "  font-weight: bold;\n",
       "  display: inline-block;\n",
       "  line-height: 1.2em;\n",
       "}\n",
       "\n",
       "#sk-container-id-2 div.sk-label-container {\n",
       "  text-align: center;\n",
       "}\n",
       "\n",
       "/* Estimator-specific */\n",
       "#sk-container-id-2 div.sk-estimator {\n",
       "  font-family: monospace;\n",
       "  border: 1px dotted var(--sklearn-color-border-box);\n",
       "  border-radius: 0.25em;\n",
       "  box-sizing: border-box;\n",
       "  margin-bottom: 0.5em;\n",
       "  /* unfitted */\n",
       "  background-color: var(--sklearn-color-unfitted-level-0);\n",
       "}\n",
       "\n",
       "#sk-container-id-2 div.sk-estimator.fitted {\n",
       "  /* fitted */\n",
       "  background-color: var(--sklearn-color-fitted-level-0);\n",
       "}\n",
       "\n",
       "/* on hover */\n",
       "#sk-container-id-2 div.sk-estimator:hover {\n",
       "  /* unfitted */\n",
       "  background-color: var(--sklearn-color-unfitted-level-2);\n",
       "}\n",
       "\n",
       "#sk-container-id-2 div.sk-estimator.fitted:hover {\n",
       "  /* fitted */\n",
       "  background-color: var(--sklearn-color-fitted-level-2);\n",
       "}\n",
       "\n",
       "/* Specification for estimator info (e.g. \"i\" and \"?\") */\n",
       "\n",
       "/* Common style for \"i\" and \"?\" */\n",
       "\n",
       ".sk-estimator-doc-link,\n",
       "a:link.sk-estimator-doc-link,\n",
       "a:visited.sk-estimator-doc-link {\n",
       "  float: right;\n",
       "  font-size: smaller;\n",
       "  line-height: 1em;\n",
       "  font-family: monospace;\n",
       "  background-color: var(--sklearn-color-background);\n",
       "  border-radius: 1em;\n",
       "  height: 1em;\n",
       "  width: 1em;\n",
       "  text-decoration: none !important;\n",
       "  margin-left: 1ex;\n",
       "  /* unfitted */\n",
       "  border: var(--sklearn-color-unfitted-level-1) 1pt solid;\n",
       "  color: var(--sklearn-color-unfitted-level-1);\n",
       "}\n",
       "\n",
       ".sk-estimator-doc-link.fitted,\n",
       "a:link.sk-estimator-doc-link.fitted,\n",
       "a:visited.sk-estimator-doc-link.fitted {\n",
       "  /* fitted */\n",
       "  border: var(--sklearn-color-fitted-level-1) 1pt solid;\n",
       "  color: var(--sklearn-color-fitted-level-1);\n",
       "}\n",
       "\n",
       "/* On hover */\n",
       "div.sk-estimator:hover .sk-estimator-doc-link:hover,\n",
       ".sk-estimator-doc-link:hover,\n",
       "div.sk-label-container:hover .sk-estimator-doc-link:hover,\n",
       ".sk-estimator-doc-link:hover {\n",
       "  /* unfitted */\n",
       "  background-color: var(--sklearn-color-unfitted-level-3);\n",
       "  color: var(--sklearn-color-background);\n",
       "  text-decoration: none;\n",
       "}\n",
       "\n",
       "div.sk-estimator.fitted:hover .sk-estimator-doc-link.fitted:hover,\n",
       ".sk-estimator-doc-link.fitted:hover,\n",
       "div.sk-label-container:hover .sk-estimator-doc-link.fitted:hover,\n",
       ".sk-estimator-doc-link.fitted:hover {\n",
       "  /* fitted */\n",
       "  background-color: var(--sklearn-color-fitted-level-3);\n",
       "  color: var(--sklearn-color-background);\n",
       "  text-decoration: none;\n",
       "}\n",
       "\n",
       "/* Span, style for the box shown on hovering the info icon */\n",
       ".sk-estimator-doc-link span {\n",
       "  display: none;\n",
       "  z-index: 9999;\n",
       "  position: relative;\n",
       "  font-weight: normal;\n",
       "  right: .2ex;\n",
       "  padding: .5ex;\n",
       "  margin: .5ex;\n",
       "  width: min-content;\n",
       "  min-width: 20ex;\n",
       "  max-width: 50ex;\n",
       "  color: var(--sklearn-color-text);\n",
       "  box-shadow: 2pt 2pt 4pt #999;\n",
       "  /* unfitted */\n",
       "  background: var(--sklearn-color-unfitted-level-0);\n",
       "  border: .5pt solid var(--sklearn-color-unfitted-level-3);\n",
       "}\n",
       "\n",
       ".sk-estimator-doc-link.fitted span {\n",
       "  /* fitted */\n",
       "  background: var(--sklearn-color-fitted-level-0);\n",
       "  border: var(--sklearn-color-fitted-level-3);\n",
       "}\n",
       "\n",
       ".sk-estimator-doc-link:hover span {\n",
       "  display: block;\n",
       "}\n",
       "\n",
       "/* \"?\"-specific style due to the `<a>` HTML tag */\n",
       "\n",
       "#sk-container-id-2 a.estimator_doc_link {\n",
       "  float: right;\n",
       "  font-size: 1rem;\n",
       "  line-height: 1em;\n",
       "  font-family: monospace;\n",
       "  background-color: var(--sklearn-color-background);\n",
       "  border-radius: 1rem;\n",
       "  height: 1rem;\n",
       "  width: 1rem;\n",
       "  text-decoration: none;\n",
       "  /* unfitted */\n",
       "  color: var(--sklearn-color-unfitted-level-1);\n",
       "  border: var(--sklearn-color-unfitted-level-1) 1pt solid;\n",
       "}\n",
       "\n",
       "#sk-container-id-2 a.estimator_doc_link.fitted {\n",
       "  /* fitted */\n",
       "  border: var(--sklearn-color-fitted-level-1) 1pt solid;\n",
       "  color: var(--sklearn-color-fitted-level-1);\n",
       "}\n",
       "\n",
       "/* On hover */\n",
       "#sk-container-id-2 a.estimator_doc_link:hover {\n",
       "  /* unfitted */\n",
       "  background-color: var(--sklearn-color-unfitted-level-3);\n",
       "  color: var(--sklearn-color-background);\n",
       "  text-decoration: none;\n",
       "}\n",
       "\n",
       "#sk-container-id-2 a.estimator_doc_link.fitted:hover {\n",
       "  /* fitted */\n",
       "  background-color: var(--sklearn-color-fitted-level-3);\n",
       "}\n",
       "</style><div id=\"sk-container-id-2\" class=\"sk-top-container\"><div class=\"sk-text-repr-fallback\"><pre>KNeighborsClassifier(metric=&#x27;euclidean&#x27;, n_neighbors=21)</pre><b>In a Jupyter environment, please rerun this cell to show the HTML representation or trust the notebook. <br />On GitHub, the HTML representation is unable to render, please try loading this page with nbviewer.org.</b></div><div class=\"sk-container\" hidden><div class=\"sk-item\"><div class=\"sk-estimator fitted sk-toggleable\"><input class=\"sk-toggleable__control sk-hidden--visually\" id=\"sk-estimator-id-2\" type=\"checkbox\" checked><label for=\"sk-estimator-id-2\" class=\"sk-toggleable__label fitted sk-toggleable__label-arrow fitted\">&nbsp;&nbsp;KNeighborsClassifier<a class=\"sk-estimator-doc-link fitted\" rel=\"noreferrer\" target=\"_blank\" href=\"https://scikit-learn.org/1.5/modules/generated/sklearn.neighbors.KNeighborsClassifier.html\">?<span>Documentation for KNeighborsClassifier</span></a><span class=\"sk-estimator-doc-link fitted\">i<span>Fitted</span></span></label><div class=\"sk-toggleable__content fitted\"><pre>KNeighborsClassifier(metric=&#x27;euclidean&#x27;, n_neighbors=21)</pre></div> </div></div></div></div>"
      ],
      "text/plain": [
       "KNeighborsClassifier(metric='euclidean', n_neighbors=21)"
      ]
     },
     "execution_count": 25,
     "metadata": {},
     "output_type": "execute_result"
    }
   ],
   "source": [
    "knn = KNeighborsClassifier(n_neighbors=21 , metric='euclidean') #membuat objek knn\n",
    "knn.fit(x_train, y_train) #melatih knn\n",
    "\n",
    "knn"
   ]
  },
  {
   "cell_type": "markdown",
   "metadata": {},
   "source": [
    "### Prediksi / Test"
   ]
  },
  {
   "cell_type": "code",
   "execution_count": 26,
   "metadata": {},
   "outputs": [
    {
     "data": {
      "text/plain": [
       "array([0, 1, 1, ..., 0, 0, 0])"
      ]
     },
     "execution_count": 26,
     "metadata": {},
     "output_type": "execute_result"
    }
   ],
   "source": [
    "y_pred = knn.predict(x_test) #melakukan prediksi\n",
    "y_pred"
   ]
  },
  {
   "cell_type": "markdown",
   "metadata": {},
   "source": [
    "### Cek Akurasi dan Evaluasi\n"
   ]
  },
  {
   "cell_type": "code",
   "execution_count": 27,
   "metadata": {},
   "outputs": [],
   "source": [
    "from sklearn.metrics import accuracy_score #library untuk menghitung akurasi\n",
    "from sklearn.metrics import confusion_matrix\n",
    "from sklearn.metrics import classification_report\n",
    "import seaborn as sb"
   ]
  },
  {
   "cell_type": "code",
   "execution_count": 28,
   "metadata": {},
   "outputs": [
    {
     "name": "stdout",
     "output_type": "stream",
     "text": [
      "Nilai akurasi adalah :  0.926\n"
     ]
    }
   ],
   "source": [
    "print(\"Nilai akurasi adalah : \", accuracy_score(y_test, y_pred)) #menghitung akurasi"
   ]
  },
  {
   "cell_type": "code",
   "execution_count": 29,
   "metadata": {},
   "outputs": [
    {
     "name": "stdout",
     "output_type": "stream",
     "text": [
      "              precision    recall  f1-score   support\n",
      "\n",
      "           0       0.92      0.93      0.93      1489\n",
      "           1       0.93      0.92      0.93      1511\n",
      "\n",
      "    accuracy                           0.93      3000\n",
      "   macro avg       0.93      0.93      0.93      3000\n",
      "weighted avg       0.93      0.93      0.93      3000\n",
      "\n"
     ]
    },
    {
     "data": {
      "text/plain": [
       "<Axes: >"
      ]
     },
     "execution_count": 29,
     "metadata": {},
     "output_type": "execute_result"
    },
    {
     "data": {
      "image/png": "[encoded data removed]",
      "text/plain": [
       "<Figure size 640x480 with 2 Axes>"
      ]
     },
     "metadata": {},
     "output_type": "display_data"
    }
   ],
   "source": [
    "print(classification_report(y_test, y_pred)) #menampilkan report klasifikasi\n",
    "sb.heatmap(confusion_matrix(y_test, y_pred), annot=True) #menampilkan confusion matrix"
   ]
  },
  {
   "cell_type": "markdown",
   "metadata": {},
   "source": [
    "### Mencari Nilai k yang Terbaik"
   ]
  },
  {
   "cell_type": "code",
   "execution_count": 24,
   "metadata": {},
   "outputs": [
    {
     "name": "stdout",
     "output_type": "stream",
     "text": [
      "[0.8996666666666666, 0.8986666666666666, 0.9166666666666666, 0.911, 0.9176666666666666, 0.9143333333333333, 0.9216666666666666, 0.9196666666666666, 0.9216666666666666, 0.9213333333333333, 0.9223333333333333, 0.9213333333333333, 0.922, 0.9236666666666666, 0.923, 0.9196666666666666, 0.923, 0.9236666666666666, 0.9246666666666666, 0.923, 0.926, 0.9236666666666666, 0.9253333333333333, 0.9236666666666666, 0.9246666666666666, 0.9243333333333333, 0.9233333333333333, 0.9226666666666666, 0.9233333333333333, 0.9216666666666666, 0.9223333333333333, 0.922, 0.9223333333333333, 0.922, 0.924, 0.9223333333333333, 0.922, 0.9233333333333333, 0.9226666666666666, 0.923, 0.923, 0.9223333333333333, 0.9213333333333333, 0.922, 0.9213333333333333, 0.922, 0.9213333333333333, 0.923, 0.9203333333333333, 0.9216666666666666, 0.9213333333333333, 0.9216666666666666, 0.9216666666666666, 0.922, 0.9213333333333333, 0.9216666666666666, 0.9216666666666666, 0.922, 0.9226666666666666, 0.9223333333333333, 0.922, 0.923, 0.9223333333333333, 0.9236666666666666, 0.9226666666666666, 0.923, 0.922, 0.9233333333333333, 0.9226666666666666, 0.9233333333333333, 0.923, 0.9233333333333333, 0.9233333333333333, 0.924, 0.9236666666666666, 0.9236666666666666, 0.9233333333333333, 0.9223333333333333, 0.923, 0.9236666666666666, 0.9226666666666666, 0.9233333333333333, 0.923, 0.9236666666666666, 0.9223333333333333, 0.9233333333333333, 0.9226666666666666, 0.9223333333333333, 0.9223333333333333, 0.923, 0.9233333333333333, 0.9236666666666666, 0.9233333333333333, 0.9236666666666666, 0.923, 0.9233333333333333, 0.923, 0.9236666666666666, 0.9233333333333333, 0.9243333333333333, 0.9236666666666666, 0.9243333333333333, 0.9236666666666666, 0.9233333333333333, 0.923, 0.9233333333333333, 0.9233333333333333, 0.9233333333333333, 0.9236666666666666, 0.923, 0.9233333333333333, 0.924, 0.9233333333333333, 0.924, 0.9243333333333333, 0.9243333333333333, 0.9246666666666666, 0.9246666666666666, 0.924, 0.9243333333333333, 0.9243333333333333, 0.9246666666666666, 0.9243333333333333, 0.9243333333333333, 0.9243333333333333, 0.9246666666666666, 0.925, 0.9246666666666666, 0.9253333333333333, 0.925, 0.925, 0.9246666666666666, 0.9246666666666666, 0.9246666666666666, 0.9243333333333333, 0.925, 0.9243333333333333, 0.924, 0.9243333333333333, 0.9246666666666666, 0.924, 0.924, 0.9236666666666666, 0.9243333333333333, 0.9246666666666666, 0.9246666666666666, 0.9246666666666666, 0.9246666666666666, 0.925, 0.925, 0.9243333333333333, 0.9243333333333333, 0.925, 0.9253333333333333, 0.9246666666666666, 0.9246666666666666, 0.9243333333333333, 0.9243333333333333, 0.9243333333333333, 0.924, 0.924, 0.9243333333333333, 0.9233333333333333, 0.924, 0.9236666666666666, 0.924, 0.9233333333333333, 0.924, 0.9243333333333333, 0.9243333333333333, 0.924, 0.9243333333333333, 0.9243333333333333, 0.924, 0.924, 0.9236666666666666, 0.9233333333333333, 0.9233333333333333, 0.9236666666666666, 0.9233333333333333, 0.9236666666666666, 0.9236666666666666, 0.9236666666666666, 0.9236666666666666, 0.9236666666666666, 0.924, 0.9236666666666666, 0.924, 0.924, 0.924, 0.924, 0.9236666666666666, 0.9236666666666666, 0.9236666666666666, 0.924, 0.924, 0.924, 0.9243333333333333, 0.924, 0.924, 0.924, 0.9243333333333333, 0.924, 0.924, 0.924, 0.9236666666666666, 0.9236666666666666, 0.9236666666666666, 0.9236666666666666, 0.924, 0.9236666666666666, 0.924, 0.924, 0.924, 0.924, 0.9236666666666666, 0.924, 0.924, 0.924, 0.924, 0.924, 0.9236666666666666, 0.9236666666666666, 0.924, 0.924, 0.924, 0.924, 0.924, 0.924, 0.9236666666666666, 0.9236666666666666, 0.9233333333333333, 0.9236666666666666, 0.9233333333333333, 0.924, 0.924, 0.924, 0.924, 0.924, 0.924, 0.9243333333333333, 0.924, 0.924, 0.9236666666666666, 0.9233333333333333, 0.9233333333333333, 0.9236666666666666, 0.9233333333333333, 0.9233333333333333, 0.9233333333333333, 0.9236666666666666, 0.9233333333333333, 0.9236666666666666, 0.924, 0.9236666666666666, 0.9233333333333333, 0.9236666666666666, 0.9236666666666666, 0.9236666666666666, 0.9236666666666666, 0.9236666666666666, 0.9236666666666666, 0.9236666666666666, 0.9236666666666666, 0.9236666666666666, 0.9233333333333333, 0.9236666666666666, 0.9233333333333333, 0.9233333333333333, 0.9233333333333333, 0.9236666666666666, 0.9236666666666666, 0.924, 0.9236666666666666, 0.924, 0.924, 0.924, 0.924, 0.924, 0.924, 0.924, 0.924, 0.924, 0.9236666666666666, 0.9236666666666666, 0.924, 0.9236666666666666, 0.924, 0.9236666666666666, 0.9233333333333333, 0.9236666666666666, 0.924, 0.924, 0.924, 0.924, 0.924, 0.9236666666666666, 0.9243333333333333, 0.9243333333333333, 0.9243333333333333, 0.9246666666666666, 0.9243333333333333, 0.924, 0.9243333333333333, 0.9243333333333333, 0.924, 0.9243333333333333, 0.924, 0.9243333333333333, 0.924, 0.9236666666666666, 0.924, 0.924, 0.924, 0.924, 0.924, 0.924, 0.924, 0.924, 0.924, 0.924, 0.924, 0.924, 0.924, 0.924, 0.9246666666666666, 0.9243333333333333, 0.9243333333333333, 0.924, 0.924, 0.924, 0.9243333333333333, 0.924, 0.924, 0.9243333333333333, 0.924, 0.924, 0.924, 0.924, 0.924, 0.9243333333333333, 0.9243333333333333, 0.9243333333333333, 0.924, 0.9243333333333333, 0.924, 0.9243333333333333, 0.924, 0.924, 0.924, 0.924, 0.924, 0.924, 0.924, 0.924, 0.924, 0.924, 0.924, 0.924, 0.924, 0.924, 0.924, 0.924, 0.924, 0.924, 0.924, 0.9243333333333333, 0.9243333333333333, 0.9243333333333333, 0.924, 0.924, 0.924, 0.9243333333333333, 0.924, 0.924, 0.924, 0.924, 0.924, 0.924, 0.924, 0.924, 0.924, 0.924, 0.924, 0.924, 0.924, 0.924, 0.924, 0.924, 0.924, 0.924, 0.924, 0.924, 0.924, 0.924, 0.924, 0.9236666666666666, 0.9243333333333333, 0.9243333333333333, 0.9243333333333333, 0.9243333333333333, 0.9243333333333333, 0.9243333333333333, 0.9243333333333333, 0.9243333333333333, 0.9243333333333333, 0.9243333333333333, 0.9243333333333333, 0.9243333333333333, 0.9243333333333333, 0.924, 0.924, 0.924, 0.924, 0.924, 0.9243333333333333, 0.924, 0.9243333333333333, 0.9243333333333333, 0.9243333333333333, 0.9243333333333333, 0.9243333333333333, 0.9243333333333333, 0.9243333333333333, 0.924, 0.9243333333333333, 0.9243333333333333, 0.9243333333333333, 0.9243333333333333, 0.9243333333333333, 0.9243333333333333, 0.9243333333333333, 0.9243333333333333, 0.9243333333333333, 0.9243333333333333, 0.9243333333333333, 0.9243333333333333, 0.9243333333333333, 0.9243333333333333, 0.9243333333333333, 0.9243333333333333, 0.9243333333333333, 0.9243333333333333, 0.9243333333333333, 0.9243333333333333, 0.9243333333333333, 0.9243333333333333, 0.9243333333333333, 0.9243333333333333, 0.9243333333333333, 0.9243333333333333, 0.9243333333333333, 0.9243333333333333, 0.9243333333333333, 0.9243333333333333, 0.9243333333333333, 0.9243333333333333, 0.9243333333333333, 0.9243333333333333, 0.9243333333333333, 0.9243333333333333, 0.924, 0.9236666666666666, 0.924, 0.9236666666666666, 0.9236666666666666, 0.9236666666666666, 0.9236666666666666, 0.9236666666666666, 0.9236666666666666, 0.9236666666666666, 0.9236666666666666, 0.9236666666666666, 0.924, 0.924, 0.924, 0.924, 0.924, 0.924, 0.9236666666666666, 0.924, 0.9236666666666666, 0.9236666666666666, 0.9236666666666666, 0.9243333333333333, 0.9243333333333333, 0.9243333333333333, 0.9243333333333333, 0.9243333333333333, 0.924, 0.924, 0.9243333333333333, 0.9236666666666666, 0.9236666666666666, 0.9236666666666666, 0.9236666666666666, 0.9233333333333333, 0.9233333333333333, 0.9233333333333333, 0.9233333333333333, 0.9233333333333333, 0.9233333333333333, 0.9236666666666666, 0.9236666666666666, 0.9236666666666666, 0.9236666666666666, 0.924, 0.924, 0.924, 0.924, 0.924, 0.9236666666666666, 0.924, 0.924, 0.924, 0.9243333333333333, 0.9243333333333333, 0.9243333333333333, 0.9243333333333333, 0.9243333333333333, 0.9243333333333333, 0.9243333333333333, 0.924, 0.924, 0.9243333333333333, 0.924, 0.924, 0.9243333333333333, 0.924, 0.924, 0.924, 0.9236666666666666, 0.9236666666666666, 0.9236666666666666, 0.9233333333333333, 0.9236666666666666, 0.9236666666666666, 0.9236666666666666, 0.924, 0.924, 0.9236666666666666, 0.924, 0.9236666666666666, 0.924, 0.924, 0.9243333333333333, 0.9243333333333333, 0.9243333333333333, 0.9243333333333333, 0.924, 0.924, 0.9236666666666666, 0.9236666666666666, 0.9236666666666666, 0.9236666666666666, 0.9236666666666666, 0.9236666666666666, 0.9236666666666666, 0.9236666666666666, 0.9236666666666666, 0.924, 0.9236666666666666, 0.924, 0.9236666666666666, 0.924, 0.924, 0.924, 0.924, 0.9243333333333333, 0.9236666666666666, 0.9243333333333333, 0.9236666666666666, 0.9236666666666666, 0.9236666666666666, 0.9236666666666666, 0.9236666666666666, 0.9236666666666666, 0.9236666666666666, 0.9243333333333333, 0.9243333333333333, 0.9243333333333333, 0.9243333333333333, 0.9246666666666666, 0.9246666666666666, 0.9246666666666666, 0.9246666666666666, 0.9246666666666666, 0.9243333333333333, 0.9243333333333333, 0.9243333333333333, 0.9243333333333333, 0.9243333333333333, 0.9246666666666666, 0.9243333333333333, 0.9246666666666666, 0.9246666666666666, 0.9246666666666666, 0.9243333333333333, 0.9246666666666666, 0.9243333333333333, 0.9246666666666666, 0.9246666666666666, 0.9246666666666666, 0.9246666666666666, 0.925, 0.9246666666666666, 0.925, 0.9246666666666666, 0.925, 0.925, 0.925, 0.925, 0.925, 0.925, 0.925, 0.9253333333333333, 0.9253333333333333, 0.9246666666666666, 0.9246666666666666, 0.925, 0.9246666666666666, 0.925, 0.925, 0.925, 0.9243333333333333, 0.9243333333333333, 0.924, 0.9243333333333333, 0.924, 0.9243333333333333, 0.924, 0.9246666666666666, 0.9243333333333333, 0.9246666666666666, 0.9243333333333333, 0.9243333333333333, 0.9243333333333333, 0.9243333333333333, 0.9243333333333333, 0.9246666666666666, 0.9243333333333333, 0.9243333333333333, 0.9243333333333333, 0.9246666666666666, 0.9243333333333333, 0.9243333333333333, 0.9243333333333333, 0.9243333333333333, 0.9243333333333333, 0.9243333333333333, 0.9243333333333333, 0.9243333333333333, 0.9246666666666666, 0.9246666666666666, 0.925, 0.925, 0.925, 0.9253333333333333, 0.9253333333333333, 0.9253333333333333, 0.9253333333333333, 0.9253333333333333, 0.925, 0.925, 0.9243333333333333, 0.9246666666666666, 0.9243333333333333, 0.9246666666666666, 0.9243333333333333, 0.9246666666666666, 0.9246666666666666, 0.925, 0.9246666666666666, 0.925, 0.925, 0.925, 0.925, 0.9253333333333333, 0.9246666666666666, 0.925, 0.925, 0.925, 0.925, 0.925, 0.925, 0.925, 0.925, 0.9253333333333333, 0.925, 0.925, 0.925, 0.925, 0.925, 0.925, 0.925, 0.925, 0.925, 0.925, 0.925, 0.925, 0.925, 0.925, 0.9246666666666666, 0.925, 0.925, 0.925, 0.9246666666666666, 0.925, 0.925, 0.925, 0.925, 0.925, 0.925, 0.925, 0.925, 0.925, 0.9253333333333333, 0.9253333333333333, 0.9253333333333333, 0.925, 0.9253333333333333, 0.9246666666666666, 0.9253333333333333, 0.9253333333333333, 0.9253333333333333, 0.9256666666666666, 0.925, 0.9256666666666666, 0.9253333333333333, 0.9256666666666666, 0.925, 0.9243333333333333, 0.9246666666666666, 0.9243333333333333, 0.9243333333333333, 0.9243333333333333, 0.925, 0.925, 0.925, 0.9246666666666666, 0.9246666666666666, 0.925, 0.9246666666666666, 0.9246666666666666, 0.9246666666666666, 0.9246666666666666, 0.9246666666666666, 0.9246666666666666, 0.9246666666666666, 0.925, 0.9246666666666666, 0.9246666666666666, 0.9246666666666666, 0.9246666666666666, 0.9243333333333333, 0.9246666666666666, 0.9246666666666666, 0.9246666666666666, 0.9246666666666666, 0.9246666666666666, 0.9246666666666666, 0.9246666666666666, 0.9246666666666666, 0.9246666666666666, 0.9246666666666666, 0.9246666666666666, 0.9246666666666666, 0.9246666666666666, 0.9246666666666666, 0.9246666666666666, 0.9246666666666666, 0.9246666666666666, 0.9246666666666666, 0.9246666666666666, 0.9246666666666666, 0.9246666666666666, 0.9246666666666666, 0.9246666666666666, 0.925, 0.9246666666666666, 0.9243333333333333, 0.925, 0.9246666666666666, 0.9246666666666666, 0.925, 0.9253333333333333, 0.9253333333333333, 0.925, 0.9246666666666666, 0.9246666666666666, 0.9246666666666666, 0.925, 0.9253333333333333, 0.9253333333333333, 0.9253333333333333, 0.9253333333333333, 0.9253333333333333, 0.925, 0.9253333333333333, 0.925, 0.925, 0.925, 0.9253333333333333, 0.925, 0.925, 0.925, 0.925, 0.9253333333333333, 0.9256666666666666, 0.9253333333333333, 0.9253333333333333, 0.925, 0.925, 0.925, 0.9246666666666666, 0.925, 0.925, 0.925, 0.9246666666666666, 0.925, 0.9246666666666666, 0.925, 0.9253333333333333, 0.9253333333333333, 0.925, 0.9253333333333333, 0.9256666666666666, 0.9253333333333333, 0.9256666666666666, 0.9253333333333333, 0.9253333333333333, 0.9256666666666666, 0.925, 0.9256666666666666, 0.9253333333333333, 0.925, 0.925, 0.9253333333333333, 0.9253333333333333, 0.9253333333333333, 0.9246666666666666, 0.9243333333333333, 0.9246666666666666, 0.9246666666666666, 0.925, 0.925, 0.925, 0.925, 0.9253333333333333, 0.925, 0.925, 0.9246666666666666, 0.925, 0.9246666666666666, 0.925, 0.925, 0.925, 0.925, 0.9253333333333333, 0.925, 0.925, 0.9246666666666666, 0.9246666666666666, 0.9253333333333333, 0.925, 0.925, 0.9246666666666666, 0.9253333333333333, 0.925, 0.9253333333333333, 0.9246666666666666, 0.925, 0.9246666666666666, 0.9246666666666666, 0.9246666666666666, 0.925, 0.9246666666666666, 0.9243333333333333, 0.9243333333333333, 0.9243333333333333, 0.924, 0.9243333333333333, 0.924, 0.924, 0.924, 0.924, 0.924, 0.9236666666666666, 0.9236666666666666, 0.9236666666666666, 0.9236666666666666, 0.9233333333333333, 0.9236666666666666, 0.9236666666666666, 0.9236666666666666, 0.924, 0.924, 0.9243333333333333, 0.924, 0.924, 0.924, 0.924, 0.9236666666666666, 0.9236666666666666, 0.9236666666666666, 0.9236666666666666, 0.9236666666666666, 0.9236666666666666, 0.9236666666666666, 0.9233333333333333, 0.924, 0.9233333333333333, 0.924, 0.9236666666666666, 0.9236666666666666, 0.9236666666666666, 0.9236666666666666, 0.9233333333333333, 0.9236666666666666, 0.9233333333333333, 0.924, 0.924, 0.9243333333333333, 0.9243333333333333, 0.9243333333333333, 0.924, 0.924, 0.924, 0.924, 0.9236666666666666, 0.9236666666666666, 0.9236666666666666, 0.9236666666666666, 0.9236666666666666, 0.9236666666666666, 0.9236666666666666, 0.9236666666666666, 0.9236666666666666, 0.9236666666666666, 0.9236666666666666, 0.9236666666666666, 0.9236666666666666, 0.9236666666666666, 0.9236666666666666, 0.9236666666666666, 0.9236666666666666, 0.924, 0.9236666666666666, 0.9236666666666666, 0.9236666666666666, 0.924, 0.9236666666666666, 0.924, 0.924, 0.9243333333333333, 0.9236666666666666, 0.924, 0.9236666666666666, 0.9236666666666666, 0.9236666666666666, 0.9236666666666666, 0.9236666666666666, 0.9233333333333333, 0.9233333333333333, 0.9233333333333333, 0.9233333333333333, 0.9233333333333333, 0.9233333333333333, 0.9236666666666666, 0.9233333333333333, 0.9236666666666666, 0.924, 0.9236666666666666, 0.9236666666666666, 0.924, 0.9236666666666666, 0.924, 0.924, 0.924, 0.924, 0.924, 0.9243333333333333, 0.924, 0.9246666666666666, 0.9246666666666666, 0.9246666666666666, 0.9246666666666666, 0.9246666666666666, 0.9243333333333333, 0.9243333333333333, 0.9243333333333333, 0.9243333333333333, 0.9243333333333333, 0.9246666666666666, 0.9243333333333333, 0.9243333333333333, 0.9243333333333333, 0.9243333333333333, 0.9243333333333333]\n",
      "Nilai akurasi tertinggi berada pada nilai K:  21\n",
      "Nilai akurasi tertinggi:  0.926\n"
     ]
    }
   ],
   "source": [
    "n_akurasi = []\n",
    "for k in range(1, 1000):\n",
    "    knn = KNeighborsClassifier(n_neighbors=k, metric='euclidean').fit(x_train, y_train)\n",
    "    y_pred = knn.predict(x_test)\n",
    "    n_akurasi.append(accuracy_score(y_test, y_pred))\n",
    "\n",
    "print(n_akurasi)\n",
    "print(\"Nilai akurasi tertinggi berada pada nilai K: \",n_akurasi.index(max(n_akurasi))+1)\n",
    "print(\"Nilai akurasi tertinggi: \",max(n_akurasi))"
   ]
  },
  {
   "cell_type": "code",
   "execution_count": 30,
   "metadata": {},
   "outputs": [
    {
     "data": {
      "image/png": "[encoded data removed]",
      "text/plain": [
       "<Figure size 2000x1000 with 1 Axes>"
      ]
     },
     "metadata": {},
     "output_type": "display_data"
    }
   ],
   "source": [
    "import matplotlib.pyplot as plt\n",
    "plt.figure(figsize=(20, 10))\n",
    "plt.plot(range(1, 1000), n_akurasi)\n",
    "plt.title('Nilai Akurasi terhadap Nilai K')\n",
    "plt.xlabel('Nilai K')\n",
    "plt.ylabel('Nilai Akurasi')\n",
    "plt.show()"
   ]
  },
  {
   "cell_type": "markdown",
   "metadata": {},
   "source": [
    "### Klasifikasi Data Baru"
   ]
  },
  {
   "cell_type": "code",
   "execution_count": 35,
   "metadata": {},
   "outputs": [
    {
     "name": "stdout",
     "output_type": "stream",
     "text": [
      "[0]\n"
     ]
    }
   ],
   "source": [
    "new_fruit = [[9, 174, 154, 20, 78]]#memasukkan data baru\n",
    "knn.predict(new_fruit)\n",
    "print(knn.predict(new_fruit))"
   ]
  },
  {
   "cell_type": "markdown",
   "metadata": {},
   "source": [
    "### Model\n"
   ]
  },
  {
   "cell_type": "code",
   "execution_count": 36,
   "metadata": {},
   "outputs": [],
   "source": [
    "import pickle #library untuk menyimpan model\n",
    "pickle.dump(knn, open('fruit.pkl', 'wb'))"
   ]
  }
 ],
 "metadata": {
  "kernelspec": {
   "display_name": "Python",
   "language": "python",
   "name": "python3"
  },
  "language_info": {
   "codemirror_mode": {
    "name": "ipython",
    "version": 3
   },
   "file_extension": ".py",
   "mimetype": "text/x-python",
   "name": "python",
   "nbconvert_exporter": "python",
   "pygments_lexer": "ipython3",
   "version": "3.10.15"
  }
 },
 "nbformat": 4,
 "nbformat_minor": 2
}
